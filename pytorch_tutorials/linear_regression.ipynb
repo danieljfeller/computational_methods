{
 "cells": [
  {
   "cell_type": "code",
   "execution_count": 2,
   "metadata": {},
   "outputs": [],
   "source": [
    "import torch\n",
    "import torch.nn as nn\n",
    "from torch.autograd import Variable\n",
    "import numpy as np\n",
    "import matplotlib.pyplot as plt"
   ]
  },
  {
   "cell_type": "markdown",
   "metadata": {},
   "source": [
    "### Create Dataset"
   ]
  },
  {
   "cell_type": "code",
   "execution_count": 28,
   "metadata": {},
   "outputs": [],
   "source": [
    "# Initializing Seed for consistent results everytime\n",
    "np.random.seed(42)\n",
    "pts = 50\n",
    "\n",
    "# Create a dataset of 50 points\n",
    "x_vals = np.random.rand(50)\n",
    "x_train = np.asarray(x_vals,dtype=np.float32).reshape(-1,1)\n",
    "m = 1\n",
    "alpha = np.random.rand(1)\n",
    "beta = np.random.rand(1)\n",
    "y_correct = np.asarray([2*i+m for i in x_vals], dtype=np.float32).reshape(-1,1)"
   ]
  },
  {
   "cell_type": "markdown",
   "metadata": {},
   "source": [
    "### Using Pytorch\n",
    "1. PyTorch Models\n",
    "2. Create a Class\n",
    "3. Declare your Forward Pass\n",
    "4. Tune the HyperParameters"
   ]
  },
  {
   "cell_type": "code",
   "execution_count": 33,
   "metadata": {},
   "outputs": [],
   "source": [
    "class LinearRegressionModel(nn.Module):\n",
    "\n",
    "    def __init__(self, input_dim, output_dim):\n",
    "        # initialize our superclass \n",
    "        super(LinearRegressionModel, self).__init__() \n",
    "        # nn.linear is defined in nn.Module\n",
    "        self.linear = nn.Linear(input_dim, output_dim)\n",
    "        \n",
    "\n",
    "    def forward(self, x):\n",
    "        # Here the forward pass is simply a linear function\n",
    "\n",
    "        out = self.linear(x)\n",
    "        return out\n",
    "\n",
    "input_dim = 1\n",
    "output_dim = 1"
   ]
  },
  {
   "cell_type": "markdown",
   "metadata": {},
   "source": [
    "### Steps\n",
    "1. Create instance of model\n",
    "2. Select Loss Criterion\n",
    "3. Choose Hyper Parameters"
   ]
  },
  {
   "cell_type": "code",
   "execution_count": 35,
   "metadata": {},
   "outputs": [],
   "source": [
    "# create a linear model\n",
    "model = LinearRegressionModel(input_dim, output_dim)\n",
    "\n",
    "# use Mean Squared Error for the loss\n",
    "criterion = nn.MSELoss() # Mean Squared Loss\n",
    "\n",
    "# create an optimizer object using Stochastic Gradient Descent\n",
    "l_rate = 0.01 \n",
    "optimiser = torch.optim.SGD(model.parameters(), lr = l_rate) \n",
    "\n",
    "epochs = 2000"
   ]
  },
  {
   "cell_type": "markdown",
   "metadata": {},
   "source": [
    "### Train the Model\n",
    "Using 200 **epochs**; an epoch is one complete presentation of the data set to be learned to a learning machine. Learning machines like feedforward neural nets that use iterative algorithms often need many epochs during their learning phase.\n",
    "\n",
    "During each epoch, we'll pass each instance in the dataset through the network exactly 1 time. We will then estimate the loss, which indicates the magnitude of difference between the model outputs (Y_hat) and the true values (Y). We then compute the *gradient* of the loss function; this tells us how much the loss function would change with corresponding changes in the model parameters. With this gradient in hand, we then **update the parameters** using our learning rate. "
   ]
  },
  {
   "cell_type": "code",
   "execution_count": 36,
   "metadata": {},
   "outputs": [
    {
     "name": "stdout",
     "output_type": "stream",
     "text": [
      "epoch 100, loss 0.18185999989509583\n",
      "epoch 200, loss 0.10518866032361984\n",
      "epoch 300, loss 0.08006535470485687\n",
      "epoch 400, loss 0.06112908571958542\n",
      "epoch 500, loss 0.04667278751730919\n",
      "epoch 600, loss 0.035635240375995636\n",
      "epoch 700, loss 0.027207907289266586\n",
      "epoch 800, loss 0.020773552358150482\n",
      "epoch 900, loss 0.015860838815569878\n",
      "epoch 1000, loss 0.012109964154660702\n",
      "epoch 1100, loss 0.009246110916137695\n",
      "epoch 1200, loss 0.007059527561068535\n",
      "epoch 1300, loss 0.005390052683651447\n",
      "epoch 1400, loss 0.0041153645142912865\n",
      "epoch 1500, loss 0.0031421221792697906\n",
      "epoch 1600, loss 0.0023990515619516373\n",
      "epoch 1700, loss 0.0018317059148102999\n",
      "epoch 1800, loss 0.001398505992256105\n",
      "epoch 1900, loss 0.0010677715763449669\n",
      "epoch 2000, loss 0.0008152537047863007\n"
     ]
    }
   ],
   "source": [
    "for epoch in range(epochs):\n",
    "\n",
    "    epoch +=1\n",
    "    inputs = Variable(torch.from_numpy(x_train))\n",
    "    labels = Variable(torch.from_numpy(y_correct))\n",
    "\n",
    "    #clear grads\n",
    "    optimiser.zero_grad()\n",
    "    #forward to get predicted values\n",
    "    outputs = model.forward(inputs)\n",
    "    loss = criterion(outputs, labels)\n",
    "    # compute the gradient\n",
    "    loss.backward()\n",
    "    optimiser.step()# update the parameters\n",
    "    \n",
    "    if epoch%100 is 0:\n",
    "        print('epoch {}, loss {}'.format(epoch,loss.data))"
   ]
  },
  {
   "cell_type": "markdown",
   "metadata": {},
   "source": [
    "### Printing the predictions\n",
    "We can pass more data through the model (now that it has been trained over 2000 epochs) and get predictions. "
   ]
  },
  {
   "cell_type": "code",
   "execution_count": 46,
   "metadata": {},
   "outputs": [
    {
     "data": {
      "image/png": "[encoded data removed]",
      "text/plain": [
       "<Figure size 432x288 with 1 Axes>"
      ]
     },
     "metadata": {
      "needs_background": "light"
     },
     "output_type": "display_data"
    },
    {
     "name": "stdout",
     "output_type": "stream",
     "text": [
      "OrderedDict([('linear.weight', tensor([[1.9009]])), ('linear.bias', tensor([1.0474]))])\n"
     ]
    }
   ],
   "source": [
    "predicted = model.forward(Variable(torch.from_numpy(x_train))).data.numpy()\n",
    "\n",
    "plt.plot(x_train, y_correct, 'go', label = 'from data', alpha = .5, color = 'red')\n",
    "plt.plot(x_train, predicted, label = 'prediction', alpha = 0.5, color = 'blue')\n",
    "plt.legend()\n",
    "plt.show()\n",
    "print(model.state_dict())"
   ]
  }
 ],
 "metadata": {
  "kernelspec": {
   "display_name": "Python 3",
   "language": "python",
   "name": "python3"
  },
  "language_info": {
   "codemirror_mode": {
    "name": "ipython",
    "version": 3
   },
   "file_extension": ".py",
   "mimetype": "text/x-python",
   "name": "python",
   "nbconvert_exporter": "python",
   "pygments_lexer": "ipython3",
   "version": "3.7.1"
  }
 },
 "nbformat": 4,
 "nbformat_minor": 2
}
