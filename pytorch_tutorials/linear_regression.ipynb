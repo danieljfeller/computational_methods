{
 "cells": [
  {
   "cell_type": "code",
   "execution_count": 1,
   "metadata": {},
   "outputs": [],
   "source": [
    "import torch\n",
    "import torch.nn as nn\n",
    "from torch.autograd import Variable\n",
    "import numpy as np\n",
    "import matplotlib.pyplot as plt"
   ]
  },
  {
   "cell_type": "markdown",
   "metadata": {},
   "source": [
    "### Create Dataset"
   ]
  },
  {
   "cell_type": "code",
   "execution_count": 3,
   "metadata": {},
   "outputs": [],
   "source": [
    "# Initializing Seed for consistent results everytime\n",
    "np.random.seed(42)\n",
    "pts = 50\n",
    "\n",
    "# Create a dataset of 50 points\n",
    "x_vals = np.random.rand(50)\n",
    "x_train = np.asarray(x_vals,dtype=np.float32).reshape(-1,1)\n",
    "m = 1\n",
    "alpha = np.random.rand(1)\n",
    "beta = np.random.rand(1)\n",
    "y_correct = np.asarray([2*i+m for i in x_vals], dtype=np.float32).reshape(-1,1)"
   ]
  },
  {
   "cell_type": "markdown",
   "metadata": {},
   "source": [
    "### Using Pytorch\n",
    "\n",
    "A model can be defined in PyTorch by subclassing the `torch.nn.Module` class. The model is defined in two steps. We first specify the parameters of the model, and then outline how they are applied to the inputs. For operations that do not involve trainable parameters (activation functions such as ReLU, operations like maxpool), we generally use the `torch.nn.functional` module."
   ]
  },
  {
   "cell_type": "code",
   "execution_count": 4,
   "metadata": {},
   "outputs": [],
   "source": [
    "class LinearRegressionModel(nn.Module):\n",
    "\n",
    "    def __init__(self, input_dim, output_dim):\n",
    "        # initialize our superclass \n",
    "        super(LinearRegressionModel, self).__init__() \n",
    "        \"\"\"\n",
    "        In the constructor we instantiate a nn.Linear module and assign it as a\n",
    "        member variable.\n",
    "        \"\"\"\n",
    "        self.linear = nn.Linear(input_dim, output_dim)\n",
    "        \n",
    "\n",
    "    def forward(self, x):\n",
    "        \"\"\"\n",
    "        In the forward function we accept a Variable of input data and we must \n",
    "        return a Variable of output data. We can use Modules defined in the \n",
    "        constructor as well as arbitrary operators on Variables.\n",
    "        \"\"\"\n",
    "        out = self.linear(x)\n",
    "        return out\n",
    "\n",
    "input_dim = 1\n",
    "output_dim = 1"
   ]
  },
  {
   "cell_type": "markdown",
   "metadata": {},
   "source": [
    "### Create Model\n",
    "Using the LinearRegressionModel class that we've defined above, we will create an instance of that class. We will pass 2 arguments to the initialization method of this class that will define the number of nodes in the model. \n",
    "\n",
    "### Select Loss Criteria\n",
    "We will define a loss function using the built-in functiosn that are contained in Pytorchs' 'nn' module. This module also contains other helpful loss functions such as cross-entropy loss (see torch.nn.CrossEntropyLoss()). \n",
    "\n",
    "### Choose hyperparameters \n",
    "For this simple model, there are only 2 hyperparameters to set; 1) the learning rate for SGD and 2) the number of epochs (or # of times the model sees the training data). \n",
    "\n",
    "**Learning Rate:** A high learning rate raises the possibility that the model might not converge (although the training process is completed quickly) and a low learning rate ensures that the model will converge but is likely to result in long training times. \n",
    "\n",
    "**Number of Epochs:** We want to have the largest number of epochs possible _before_ the testing error begins to decrease. As a result, if choosing the number of epochs empirically we want to use the training error to do so. \n",
    "\n",
    "**Other Hyperparameters:** 1) _Batch Size_ is the number of training examples passed to the model for every update in the model parameters. _This is specific to a type of training procedure called Mini-Batch Gradient Descent. SGD computes the error (and updates model parameters) using only 1 training example._ 2) It is common to simply add to the _number of hidden layers_ until the test error does not subsequently improve. Likewise, 3) adding _a large number of hidden units_ and using a regularization technique (most commonly, node dropout) to prevent overfitting"
   ]
  },
  {
   "cell_type": "code",
   "execution_count": 19,
   "metadata": {},
   "outputs": [],
   "source": [
    "# create a linear model\n",
    "model = LinearRegressionModel(input_dim, output_dim)\n",
    "\n",
    "# use Mean Squared Error for the loss\n",
    "criterion = nn.MSELoss() # Mean Squared Loss\n",
    "\n",
    "# create an optimizer object using Stochastic Gradient Descent\n",
    "l_rate = 0.01 \n",
    "optimiser = torch.optim.SGD(model.parameters(), lr = l_rate) \n",
    "\n",
    "epochs = 10000"
   ]
  },
  {
   "cell_type": "markdown",
   "metadata": {},
   "source": [
    "### Train the Model\n",
    "1. Learning machines like feedforward neural nets that use iterative algorithms often need many epochs during their learning phase. During each epoch, **we'll pass each instance in the dataset through the network exactly 1 time because we are using _Stochastic Gradient Descent_.**\n",
    "\n",
    "2. We will then **estimate the loss**, which indicates the magnitude of difference between the model outputs (Y_hat) and the true values (Y). \n",
    "\n",
    "3. We then **compute the gradient of the loss function**; this tells us how much the loss function would change with corresponding changes in the model parameters. \n",
    "\n",
    "4. With this gradient in hand, we then **update the parameters using our learning rate.** "
   ]
  },
  {
   "cell_type": "code",
   "execution_count": 21,
   "metadata": {},
   "outputs": [
    {
     "name": "stdout",
     "output_type": "stream",
     "text": [
      "epoch 1000, loss 0.005116411484777927\n",
      "epoch 2000, loss 0.00034444115590304136\n",
      "epoch 3000, loss 2.318846236448735e-05\n",
      "epoch 4000, loss 1.5614102721883683e-06\n",
      "epoch 5000, loss 1.0572718167622952e-07\n",
      "epoch 6000, loss 7.58362261876755e-09\n",
      "epoch 7000, loss 5.361749932930593e-10\n",
      "epoch 8000, loss 5.361749932930593e-10\n",
      "epoch 9000, loss 5.361749932930593e-10\n",
      "epoch 10000, loss 5.361749932930593e-10\n"
     ]
    }
   ],
   "source": [
    "for epoch in range(epochs):\n",
    "    epoch +=1\n",
    "    \n",
    "    # create torch tensors\n",
    "    inputs = torch.from_numpy(x_train)\n",
    "    labels = torch.from_numpy(y_correct)\n",
    "\n",
    "    # clear gradients before each epoch\n",
    "    optimiser.zero_grad()\n",
    "    \n",
    "    # forward pass through the model to compute loss\n",
    "    outputs = model.forward(inputs)\n",
    "    loss = criterion(outputs, labels)\n",
    "    \n",
    "    # compute the gradient of the loss function\n",
    "    loss.backward()\n",
    "    \n",
    "    # update model parameters using \n",
    "    optimiser.step()\n",
    "    \n",
    "    if epoch%1000 is 0:\n",
    "        print('epoch {}, loss {}'.format(epoch,loss.data))"
   ]
  },
  {
   "cell_type": "markdown",
   "metadata": {},
   "source": [
    "Empirically we can see that the model training required 7000 epochs for the loss function to converge . \n",
    "\n",
    "Using a smaller number (~2000) obviously decreased the _training error_ but did not converge, **however this may be preferable because using a large number of epochs is likely going to overfit the model**.  "
   ]
  },
  {
   "cell_type": "markdown",
   "metadata": {},
   "source": [
    "### Printing the predictions\n",
    "We can pass more data through the model (now that it has been trained over 7000 epochs) and get predictions. "
   ]
  },
  {
   "cell_type": "code",
   "execution_count": 25,
   "metadata": {},
   "outputs": [
    {
     "data": {
      "image/png": "[encoded data removed]",
      "text/plain": [
       "<Figure size 432x288 with 1 Axes>"
      ]
     },
     "metadata": {
      "needs_background": "light"
     },
     "output_type": "display_data"
    },
    {
     "name": "stdout",
     "output_type": "stream",
     "text": [
      "OrderedDict([('linear.weight', tensor([[2.0001]])), ('linear.bias', tensor([1.0000]))])\n"
     ]
    }
   ],
   "source": [
    "predicted = model.forward(torch.from_numpy(x_train)).data.numpy()\n",
    "\n",
    "plt.plot(x_train, y_correct, 'go', label = 'from data', alpha = .5, color = 'red')\n",
    "plt.plot(x_train, predicted, label = 'prediction', alpha = 0.5, color = 'blue')\n",
    "plt.legend()\n",
    "plt.show()\n",
    "print(model.state_dict())"
   ]
  },
  {
   "cell_type": "markdown",
   "metadata": {},
   "source": [
    "Note that it is typically easier to work with `np.array` objects for visualization and other types of analysis compared to the `torch.tensor` objects. Pytorch supports easy transformation of `torch.tensor` into a Numpy format using `tensor.data.numpy()` and vice-versa using `torch.from_numpy(array)`."
   ]
  }
 ],
 "metadata": {
  "kernelspec": {
   "display_name": "Python 3",
   "language": "python",
   "name": "python3"
  },
  "language_info": {
   "codemirror_mode": {
    "name": "ipython",
    "version": 3
   },
   "file_extension": ".py",
   "mimetype": "text/x-python",
   "name": "python",
   "nbconvert_exporter": "python",
   "pygments_lexer": "ipython3",
   "version": "3.7.1"
  }
 },
 "nbformat": 4,
 "nbformat_minor": 2
}
