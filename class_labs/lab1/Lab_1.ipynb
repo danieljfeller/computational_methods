{
 "cells": [
  {
   "cell_type": "markdown",
   "metadata": {},
   "source": [
    "![Pyton_comic](https://biomedicalhub.github.io/python-data/images/python.png)"
   ]
  },
  {
   "cell_type": "markdown",
   "metadata": {},
   "source": [
    "# Lab 1: Python Refresher and Autodiff"
   ]
  },
  {
   "cell_type": "markdown",
   "metadata": {},
   "source": [
    "## Part 1: Manipulating data with Pandas\n",
    "Before you do any statistics, you need to get data into the python environment. In this part you will learn how to \n",
    " 1. Load data from CSV files\n",
    " 2. Subset data frames\n",
    " 3. Edit data to make it easier to manage\n",
    " 4. Merge multiple datasets\n",
    " \n",
    "Pandas is a python module used to handle tabular data, in a format similar to R's data.frame data structure. We will be using it extensively throuhgout the semester. If pandas is not installed already, use `conda` to install it into your `Computational_methods` environment. For a quick reference of pandas methods, check out the [Pandas cheat sheet](https://pandas.pydata.org/Pandas_Cheat_Sheet.pdf). Google is also your friend here 😁"
   ]
  },
  {
   "cell_type": "code",
   "execution_count": 43,
   "metadata": {},
   "outputs": [
    {
     "name": "stdout",
     "output_type": "stream",
     "text": [
      "/anaconda3/lib/python3.7/os.py\n"
     ]
    }
   ],
   "source": [
    "import os\n",
    "print(os.__file__)\n",
    "import pandas as pd\n",
    "from IPython.core.interactiveshell import InteractiveShell\n",
    "InteractiveShell.ast_node_interactivity = \"all\""
   ]
  },
  {
   "cell_type": "markdown",
   "metadata": {},
   "source": [
    "### 1.1 Load CSV File"
   ]
  },
  {
   "cell_type": "markdown",
   "metadata": {},
   "source": [
    "a. Use`pandas` to read `rhc.csv`. A description of this dataset is [here](http://biostat.mc.vanderbilt.edu/wiki/pub/Main/DataSets/rhc.html). "
   ]
  },
  {
   "cell_type": "code",
   "execution_count": 3,
   "metadata": {},
   "outputs": [],
   "source": [
    "rhc = pd.read_csv(\"rhc.csv\")"
   ]
  },
  {
   "cell_type": "markdown",
   "metadata": {},
   "source": [
    "b. View your new data frame, and get all of the feature names. "
   ]
  },
  {
   "cell_type": "code",
   "execution_count": 4,
   "metadata": {},
   "outputs": [
    {
     "data": {
      "text/plain": [
       "array(['Unnamed: 0', 'cat1', 'cat2', 'ca', 'sadmdte', 'dschdte', 'dthdte',\n",
       "       'lstctdte', 'death', 'cardiohx', 'chfhx', 'dementhx', 'psychhx',\n",
       "       'chrpulhx', 'renalhx', 'liverhx', 'gibledhx', 'malighx', 'immunhx',\n",
       "       'transhx', 'amihx', 'age', 'sex', 'edu', 'surv2md1', 'das2d3pc',\n",
       "       't3d30', 'dth30', 'aps1', 'scoma1', 'meanbp1', 'wblc1', 'hrt1',\n",
       "       'resp1', 'temp1', 'pafi1', 'alb1', 'hema1', 'bili1', 'crea1',\n",
       "       'sod1', 'pot1', 'paco21', 'ph1', 'swang1', 'wtkilo1', 'dnr1',\n",
       "       'ninsclas', 'resp', 'card', 'neuro', 'gastr', 'renal', 'meta',\n",
       "       'hema', 'seps', 'trauma', 'ortho', 'adld3p', 'urin1', 'race',\n",
       "       'income', 'ptid'], dtype=object)"
      ]
     },
     "execution_count": 4,
     "metadata": {},
     "output_type": "execute_result"
    }
   ],
   "source": [
    "rhc.columns.values"
   ]
  },
  {
   "cell_type": "markdown",
   "metadata": {},
   "source": [
    "### 1.2 Structure\n",
    "a. What are the dimensions of the data frame, and the classes of each column? Can you get a summary of every feature in the data? (Try the `describe` method)"
   ]
  },
  {
   "cell_type": "code",
   "execution_count": 5,
   "metadata": {},
   "outputs": [
    {
     "data": {
      "text/html": [
       "<div>\n",
       "<style scoped>\n",
       "    .dataframe tbody tr th:only-of-type {\n",
       "        vertical-align: middle;\n",
       "    }\n",
       "\n",
       "    .dataframe tbody tr th {\n",
       "        vertical-align: top;\n",
       "    }\n",
       "\n",
       "    .dataframe thead th {\n",
       "        text-align: right;\n",
       "    }\n",
       "</style>\n",
       "<table border=\"1\" class=\"dataframe\">\n",
       "  <thead>\n",
       "    <tr style=\"text-align: right;\">\n",
       "      <th></th>\n",
       "      <th>Unnamed: 0</th>\n",
       "      <th>sadmdte</th>\n",
       "      <th>dschdte</th>\n",
       "      <th>dthdte</th>\n",
       "      <th>lstctdte</th>\n",
       "      <th>cardiohx</th>\n",
       "      <th>chfhx</th>\n",
       "      <th>dementhx</th>\n",
       "      <th>psychhx</th>\n",
       "      <th>chrpulhx</th>\n",
       "      <th>...</th>\n",
       "      <th>bili1</th>\n",
       "      <th>crea1</th>\n",
       "      <th>sod1</th>\n",
       "      <th>pot1</th>\n",
       "      <th>paco21</th>\n",
       "      <th>ph1</th>\n",
       "      <th>wtkilo1</th>\n",
       "      <th>adld3p</th>\n",
       "      <th>urin1</th>\n",
       "      <th>ptid</th>\n",
       "    </tr>\n",
       "  </thead>\n",
       "  <tbody>\n",
       "    <tr>\n",
       "      <th>count</th>\n",
       "      <td>5735.000000</td>\n",
       "      <td>5735.000000</td>\n",
       "      <td>5734.000000</td>\n",
       "      <td>3722.000000</td>\n",
       "      <td>5735.000000</td>\n",
       "      <td>5735.000000</td>\n",
       "      <td>5735.000000</td>\n",
       "      <td>5735.000000</td>\n",
       "      <td>5735.000000</td>\n",
       "      <td>5735.000000</td>\n",
       "      <td>...</td>\n",
       "      <td>5735.000000</td>\n",
       "      <td>5735.000000</td>\n",
       "      <td>5735.000000</td>\n",
       "      <td>5735.000000</td>\n",
       "      <td>5735.000000</td>\n",
       "      <td>5735.000000</td>\n",
       "      <td>5735.000000</td>\n",
       "      <td>1439.000000</td>\n",
       "      <td>2707.000000</td>\n",
       "      <td>5735.000000</td>\n",
       "    </tr>\n",
       "    <tr>\n",
       "      <th>mean</th>\n",
       "      <td>2868.000000</td>\n",
       "      <td>11638.686312</td>\n",
       "      <td>11660.050401</td>\n",
       "      <td>11753.869156</td>\n",
       "      <td>11781.257890</td>\n",
       "      <td>0.176635</td>\n",
       "      <td>0.178030</td>\n",
       "      <td>0.098344</td>\n",
       "      <td>0.067306</td>\n",
       "      <td>0.189887</td>\n",
       "      <td>...</td>\n",
       "      <td>2.267067</td>\n",
       "      <td>2.133017</td>\n",
       "      <td>136.768963</td>\n",
       "      <td>4.066693</td>\n",
       "      <td>38.748975</td>\n",
       "      <td>7.388413</td>\n",
       "      <td>67.827817</td>\n",
       "      <td>1.182071</td>\n",
       "      <td>2192.453665</td>\n",
       "      <td>5134.006452</td>\n",
       "    </tr>\n",
       "    <tr>\n",
       "      <th>std</th>\n",
       "      <td>1655.696228</td>\n",
       "      <td>513.967751</td>\n",
       "      <td>513.447322</td>\n",
       "      <td>538.812330</td>\n",
       "      <td>524.094168</td>\n",
       "      <td>0.381393</td>\n",
       "      <td>0.382571</td>\n",
       "      <td>0.297805</td>\n",
       "      <td>0.250573</td>\n",
       "      <td>0.392246</td>\n",
       "      <td>...</td>\n",
       "      <td>4.801538</td>\n",
       "      <td>2.053080</td>\n",
       "      <td>7.655160</td>\n",
       "      <td>1.028353</td>\n",
       "      <td>13.183445</td>\n",
       "      <td>0.109812</td>\n",
       "      <td>29.055534</td>\n",
       "      <td>1.819057</td>\n",
       "      <td>1525.140006</td>\n",
       "      <td>2972.206379</td>\n",
       "    </tr>\n",
       "    <tr>\n",
       "      <th>min</th>\n",
       "      <td>1.000000</td>\n",
       "      <td>10754.000000</td>\n",
       "      <td>10757.000000</td>\n",
       "      <td>10757.000000</td>\n",
       "      <td>10756.000000</td>\n",
       "      <td>0.000000</td>\n",
       "      <td>0.000000</td>\n",
       "      <td>0.000000</td>\n",
       "      <td>0.000000</td>\n",
       "      <td>0.000000</td>\n",
       "      <td>...</td>\n",
       "      <td>0.099991</td>\n",
       "      <td>0.099991</td>\n",
       "      <td>101.000000</td>\n",
       "      <td>1.099854</td>\n",
       "      <td>1.000000</td>\n",
       "      <td>6.579102</td>\n",
       "      <td>0.000000</td>\n",
       "      <td>0.000000</td>\n",
       "      <td>0.000000</td>\n",
       "      <td>5.000000</td>\n",
       "    </tr>\n",
       "    <tr>\n",
       "      <th>25%</th>\n",
       "      <td>1434.500000</td>\n",
       "      <td>11163.500000</td>\n",
       "      <td>11184.000000</td>\n",
       "      <td>11267.000000</td>\n",
       "      <td>11316.000000</td>\n",
       "      <td>0.000000</td>\n",
       "      <td>0.000000</td>\n",
       "      <td>0.000000</td>\n",
       "      <td>0.000000</td>\n",
       "      <td>0.000000</td>\n",
       "      <td>...</td>\n",
       "      <td>0.799927</td>\n",
       "      <td>1.000000</td>\n",
       "      <td>132.000000</td>\n",
       "      <td>3.399902</td>\n",
       "      <td>31.000000</td>\n",
       "      <td>7.339844</td>\n",
       "      <td>56.299990</td>\n",
       "      <td>0.000000</td>\n",
       "      <td>1110.000000</td>\n",
       "      <td>2561.500000</td>\n",
       "    </tr>\n",
       "    <tr>\n",
       "      <th>50%</th>\n",
       "      <td>2868.000000</td>\n",
       "      <td>11759.000000</td>\n",
       "      <td>11777.000000</td>\n",
       "      <td>11831.500000</td>\n",
       "      <td>11868.000000</td>\n",
       "      <td>0.000000</td>\n",
       "      <td>0.000000</td>\n",
       "      <td>0.000000</td>\n",
       "      <td>0.000000</td>\n",
       "      <td>0.000000</td>\n",
       "      <td>...</td>\n",
       "      <td>1.009766</td>\n",
       "      <td>1.500000</td>\n",
       "      <td>136.000000</td>\n",
       "      <td>3.799805</td>\n",
       "      <td>37.000000</td>\n",
       "      <td>7.399998</td>\n",
       "      <td>70.000000</td>\n",
       "      <td>0.000000</td>\n",
       "      <td>1927.000000</td>\n",
       "      <td>5131.000000</td>\n",
       "    </tr>\n",
       "    <tr>\n",
       "      <th>75%</th>\n",
       "      <td>4301.500000</td>\n",
       "      <td>12097.000000</td>\n",
       "      <td>12120.000000</td>\n",
       "      <td>12208.000000</td>\n",
       "      <td>12244.000000</td>\n",
       "      <td>0.000000</td>\n",
       "      <td>0.000000</td>\n",
       "      <td>0.000000</td>\n",
       "      <td>0.000000</td>\n",
       "      <td>0.000000</td>\n",
       "      <td>...</td>\n",
       "      <td>1.399902</td>\n",
       "      <td>2.399902</td>\n",
       "      <td>142.000000</td>\n",
       "      <td>4.599609</td>\n",
       "      <td>42.000000</td>\n",
       "      <td>7.459961</td>\n",
       "      <td>83.699950</td>\n",
       "      <td>2.000000</td>\n",
       "      <td>2955.000000</td>\n",
       "      <td>7689.000000</td>\n",
       "    </tr>\n",
       "    <tr>\n",
       "      <th>max</th>\n",
       "      <td>5735.000000</td>\n",
       "      <td>12441.000000</td>\n",
       "      <td>12560.000000</td>\n",
       "      <td>12783.000000</td>\n",
       "      <td>12644.000000</td>\n",
       "      <td>1.000000</td>\n",
       "      <td>1.000000</td>\n",
       "      <td>1.000000</td>\n",
       "      <td>1.000000</td>\n",
       "      <td>1.000000</td>\n",
       "      <td>...</td>\n",
       "      <td>58.195312</td>\n",
       "      <td>25.097656</td>\n",
       "      <td>178.000000</td>\n",
       "      <td>11.898438</td>\n",
       "      <td>156.000000</td>\n",
       "      <td>7.769531</td>\n",
       "      <td>244.000000</td>\n",
       "      <td>7.000000</td>\n",
       "      <td>9000.000000</td>\n",
       "      <td>10278.000000</td>\n",
       "    </tr>\n",
       "  </tbody>\n",
       "</table>\n",
       "<p>8 rows × 42 columns</p>\n",
       "</div>"
      ],
      "text/plain": [
       "        Unnamed: 0       sadmdte       dschdte        dthdte      lstctdte  \\\n",
       "count  5735.000000   5735.000000   5734.000000   3722.000000   5735.000000   \n",
       "mean   2868.000000  11638.686312  11660.050401  11753.869156  11781.257890   \n",
       "std    1655.696228    513.967751    513.447322    538.812330    524.094168   \n",
       "min       1.000000  10754.000000  10757.000000  10757.000000  10756.000000   \n",
       "25%    1434.500000  11163.500000  11184.000000  11267.000000  11316.000000   \n",
       "50%    2868.000000  11759.000000  11777.000000  11831.500000  11868.000000   \n",
       "75%    4301.500000  12097.000000  12120.000000  12208.000000  12244.000000   \n",
       "max    5735.000000  12441.000000  12560.000000  12783.000000  12644.000000   \n",
       "\n",
       "          cardiohx        chfhx     dementhx      psychhx     chrpulhx  \\\n",
       "count  5735.000000  5735.000000  5735.000000  5735.000000  5735.000000   \n",
       "mean      0.176635     0.178030     0.098344     0.067306     0.189887   \n",
       "std       0.381393     0.382571     0.297805     0.250573     0.392246   \n",
       "min       0.000000     0.000000     0.000000     0.000000     0.000000   \n",
       "25%       0.000000     0.000000     0.000000     0.000000     0.000000   \n",
       "50%       0.000000     0.000000     0.000000     0.000000     0.000000   \n",
       "75%       0.000000     0.000000     0.000000     0.000000     0.000000   \n",
       "max       1.000000     1.000000     1.000000     1.000000     1.000000   \n",
       "\n",
       "           ...             bili1        crea1         sod1         pot1  \\\n",
       "count      ...       5735.000000  5735.000000  5735.000000  5735.000000   \n",
       "mean       ...          2.267067     2.133017   136.768963     4.066693   \n",
       "std        ...          4.801538     2.053080     7.655160     1.028353   \n",
       "min        ...          0.099991     0.099991   101.000000     1.099854   \n",
       "25%        ...          0.799927     1.000000   132.000000     3.399902   \n",
       "50%        ...          1.009766     1.500000   136.000000     3.799805   \n",
       "75%        ...          1.399902     2.399902   142.000000     4.599609   \n",
       "max        ...         58.195312    25.097656   178.000000    11.898438   \n",
       "\n",
       "            paco21          ph1      wtkilo1       adld3p        urin1  \\\n",
       "count  5735.000000  5735.000000  5735.000000  1439.000000  2707.000000   \n",
       "mean     38.748975     7.388413    67.827817     1.182071  2192.453665   \n",
       "std      13.183445     0.109812    29.055534     1.819057  1525.140006   \n",
       "min       1.000000     6.579102     0.000000     0.000000     0.000000   \n",
       "25%      31.000000     7.339844    56.299990     0.000000  1110.000000   \n",
       "50%      37.000000     7.399998    70.000000     0.000000  1927.000000   \n",
       "75%      42.000000     7.459961    83.699950     2.000000  2955.000000   \n",
       "max     156.000000     7.769531   244.000000     7.000000  9000.000000   \n",
       "\n",
       "               ptid  \n",
       "count   5735.000000  \n",
       "mean    5134.006452  \n",
       "std     2972.206379  \n",
       "min        5.000000  \n",
       "25%     2561.500000  \n",
       "50%     5131.000000  \n",
       "75%     7689.000000  \n",
       "max    10278.000000  \n",
       "\n",
       "[8 rows x 42 columns]"
      ]
     },
     "execution_count": 5,
     "metadata": {},
     "output_type": "execute_result"
    }
   ],
   "source": [
    "rhc.describe()"
   ]
  },
  {
   "cell_type": "markdown",
   "metadata": {},
   "source": [
    "### 1.3 Subset\n",
    "a. Select the first 10 columns of the data frame. (! Remember that that the first element of any list or vector in Python is indexed as 0 !)"
   ]
  },
  {
   "cell_type": "code",
   "execution_count": 45,
   "metadata": {},
   "outputs": [
    {
     "data": {
      "text/html": [
       "<div>\n",
       "<style scoped>\n",
       "    .dataframe tbody tr th:only-of-type {\n",
       "        vertical-align: middle;\n",
       "    }\n",
       "\n",
       "    .dataframe tbody tr th {\n",
       "        vertical-align: top;\n",
       "    }\n",
       "\n",
       "    .dataframe thead th {\n",
       "        text-align: right;\n",
       "    }\n",
       "</style>\n",
       "<table border=\"1\" class=\"dataframe\">\n",
       "  <thead>\n",
       "    <tr style=\"text-align: right;\">\n",
       "      <th></th>\n",
       "      <th>Unnamed: 0</th>\n",
       "      <th>cat1</th>\n",
       "      <th>cat2</th>\n",
       "      <th>ca</th>\n",
       "      <th>sadmdte</th>\n",
       "      <th>dschdte</th>\n",
       "      <th>dthdte</th>\n",
       "      <th>lstctdte</th>\n",
       "      <th>death</th>\n",
       "      <th>cardiohx</th>\n",
       "    </tr>\n",
       "  </thead>\n",
       "  <tbody>\n",
       "    <tr>\n",
       "      <th>0</th>\n",
       "      <td>1</td>\n",
       "      <td>COPD</td>\n",
       "      <td>NaN</td>\n",
       "      <td>Yes</td>\n",
       "      <td>11142</td>\n",
       "      <td>11151.0</td>\n",
       "      <td>NaN</td>\n",
       "      <td>11382</td>\n",
       "      <td>No</td>\n",
       "      <td>0</td>\n",
       "    </tr>\n",
       "    <tr>\n",
       "      <th>1</th>\n",
       "      <td>2</td>\n",
       "      <td>MOSF w/Sepsis</td>\n",
       "      <td>NaN</td>\n",
       "      <td>No</td>\n",
       "      <td>11799</td>\n",
       "      <td>11844.0</td>\n",
       "      <td>11844.0</td>\n",
       "      <td>11844</td>\n",
       "      <td>Yes</td>\n",
       "      <td>1</td>\n",
       "    </tr>\n",
       "    <tr>\n",
       "      <th>2</th>\n",
       "      <td>3</td>\n",
       "      <td>MOSF w/Malignancy</td>\n",
       "      <td>MOSF w/Sepsis</td>\n",
       "      <td>Yes</td>\n",
       "      <td>12083</td>\n",
       "      <td>12143.0</td>\n",
       "      <td>NaN</td>\n",
       "      <td>12400</td>\n",
       "      <td>No</td>\n",
       "      <td>0</td>\n",
       "    </tr>\n",
       "    <tr>\n",
       "      <th>3</th>\n",
       "      <td>4</td>\n",
       "      <td>ARF</td>\n",
       "      <td>NaN</td>\n",
       "      <td>No</td>\n",
       "      <td>11146</td>\n",
       "      <td>11183.0</td>\n",
       "      <td>11183.0</td>\n",
       "      <td>11182</td>\n",
       "      <td>Yes</td>\n",
       "      <td>0</td>\n",
       "    </tr>\n",
       "    <tr>\n",
       "      <th>4</th>\n",
       "      <td>5</td>\n",
       "      <td>MOSF w/Sepsis</td>\n",
       "      <td>NaN</td>\n",
       "      <td>No</td>\n",
       "      <td>12035</td>\n",
       "      <td>12037.0</td>\n",
       "      <td>12037.0</td>\n",
       "      <td>12036</td>\n",
       "      <td>Yes</td>\n",
       "      <td>0</td>\n",
       "    </tr>\n",
       "  </tbody>\n",
       "</table>\n",
       "</div>"
      ],
      "text/plain": [
       "   Unnamed: 0               cat1           cat2   ca  sadmdte  dschdte  \\\n",
       "0           1               COPD            NaN  Yes    11142  11151.0   \n",
       "1           2      MOSF w/Sepsis            NaN   No    11799  11844.0   \n",
       "2           3  MOSF w/Malignancy  MOSF w/Sepsis  Yes    12083  12143.0   \n",
       "3           4                ARF            NaN   No    11146  11183.0   \n",
       "4           5      MOSF w/Sepsis            NaN   No    12035  12037.0   \n",
       "\n",
       "    dthdte  lstctdte death  cardiohx  \n",
       "0      NaN     11382    No         0  \n",
       "1  11844.0     11844   Yes         1  \n",
       "2      NaN     12400    No         0  \n",
       "3  11183.0     11182   Yes         0  \n",
       "4  12037.0     12036   Yes         0  "
      ]
     },
     "execution_count": 45,
     "metadata": {},
     "output_type": "execute_result"
    }
   ],
   "source": [
    "rhc.iloc[:,0:10].head()"
   ]
  },
  {
   "cell_type": "markdown",
   "metadata": {},
   "source": [
    "b. Select individuals between 10 and 25 years of age. How many such individuals are there?"
   ]
  },
  {
   "cell_type": "code",
   "execution_count": 7,
   "metadata": {},
   "outputs": [
    {
     "data": {
      "text/plain": [
       "(145, 63)"
      ]
     },
     "execution_count": 7,
     "metadata": {},
     "output_type": "execute_result"
    }
   ],
   "source": [
    "rhc.loc[(rhc['age'] >= 10.0) & (rhc['age'] <= 25.0), :].shape"
   ]
  },
  {
   "cell_type": "markdown",
   "metadata": {},
   "source": [
    "c. Select rows that are not missing any missing data."
   ]
  },
  {
   "cell_type": "code",
   "execution_count": 8,
   "metadata": {},
   "outputs": [
    {
     "data": {
      "text/html": [
       "<div>\n",
       "<style scoped>\n",
       "    .dataframe tbody tr th:only-of-type {\n",
       "        vertical-align: middle;\n",
       "    }\n",
       "\n",
       "    .dataframe tbody tr th {\n",
       "        vertical-align: top;\n",
       "    }\n",
       "\n",
       "    .dataframe thead th {\n",
       "        text-align: right;\n",
       "    }\n",
       "</style>\n",
       "<table border=\"1\" class=\"dataframe\">\n",
       "  <thead>\n",
       "    <tr style=\"text-align: right;\">\n",
       "      <th></th>\n",
       "      <th>Unnamed: 0</th>\n",
       "      <th>cat1</th>\n",
       "      <th>cat2</th>\n",
       "      <th>ca</th>\n",
       "      <th>sadmdte</th>\n",
       "      <th>dschdte</th>\n",
       "      <th>dthdte</th>\n",
       "      <th>lstctdte</th>\n",
       "      <th>death</th>\n",
       "      <th>cardiohx</th>\n",
       "      <th>...</th>\n",
       "      <th>meta</th>\n",
       "      <th>hema</th>\n",
       "      <th>seps</th>\n",
       "      <th>trauma</th>\n",
       "      <th>ortho</th>\n",
       "      <th>adld3p</th>\n",
       "      <th>urin1</th>\n",
       "      <th>race</th>\n",
       "      <th>income</th>\n",
       "      <th>ptid</th>\n",
       "    </tr>\n",
       "  </thead>\n",
       "  <tbody>\n",
       "    <tr>\n",
       "      <th>110</th>\n",
       "      <td>111</td>\n",
       "      <td>MOSF w/Malignancy</td>\n",
       "      <td>MOSF w/Sepsis</td>\n",
       "      <td>Metastatic</td>\n",
       "      <td>12025</td>\n",
       "      <td>12032.0</td>\n",
       "      <td>12075.0</td>\n",
       "      <td>12074</td>\n",
       "      <td>Yes</td>\n",
       "      <td>0</td>\n",
       "      <td>...</td>\n",
       "      <td>Yes</td>\n",
       "      <td>No</td>\n",
       "      <td>No</td>\n",
       "      <td>No</td>\n",
       "      <td>No</td>\n",
       "      <td>1.0</td>\n",
       "      <td>2525.0</td>\n",
       "      <td>white</td>\n",
       "      <td>Under $11k</td>\n",
       "      <td>193</td>\n",
       "    </tr>\n",
       "    <tr>\n",
       "      <th>168</th>\n",
       "      <td>169</td>\n",
       "      <td>MOSF w/Malignancy</td>\n",
       "      <td>MOSF w/Sepsis</td>\n",
       "      <td>Yes</td>\n",
       "      <td>12433</td>\n",
       "      <td>12440.0</td>\n",
       "      <td>12440.0</td>\n",
       "      <td>12440</td>\n",
       "      <td>Yes</td>\n",
       "      <td>0</td>\n",
       "      <td>...</td>\n",
       "      <td>No</td>\n",
       "      <td>No</td>\n",
       "      <td>Yes</td>\n",
       "      <td>No</td>\n",
       "      <td>No</td>\n",
       "      <td>0.0</td>\n",
       "      <td>3665.0</td>\n",
       "      <td>white</td>\n",
       "      <td>$11-$25k</td>\n",
       "      <td>292</td>\n",
       "    </tr>\n",
       "    <tr>\n",
       "      <th>249</th>\n",
       "      <td>250</td>\n",
       "      <td>MOSF w/Malignancy</td>\n",
       "      <td>MOSF w/Sepsis</td>\n",
       "      <td>Yes</td>\n",
       "      <td>12197</td>\n",
       "      <td>12242.0</td>\n",
       "      <td>12332.0</td>\n",
       "      <td>12332</td>\n",
       "      <td>Yes</td>\n",
       "      <td>0</td>\n",
       "      <td>...</td>\n",
       "      <td>No</td>\n",
       "      <td>No</td>\n",
       "      <td>Yes</td>\n",
       "      <td>No</td>\n",
       "      <td>No</td>\n",
       "      <td>0.0</td>\n",
       "      <td>2915.0</td>\n",
       "      <td>white</td>\n",
       "      <td>$25-$50k</td>\n",
       "      <td>445</td>\n",
       "    </tr>\n",
       "    <tr>\n",
       "      <th>362</th>\n",
       "      <td>363</td>\n",
       "      <td>COPD</td>\n",
       "      <td>Lung Cancer</td>\n",
       "      <td>Metastatic</td>\n",
       "      <td>12331</td>\n",
       "      <td>12335.0</td>\n",
       "      <td>12444.0</td>\n",
       "      <td>12444</td>\n",
       "      <td>Yes</td>\n",
       "      <td>0</td>\n",
       "      <td>...</td>\n",
       "      <td>No</td>\n",
       "      <td>No</td>\n",
       "      <td>No</td>\n",
       "      <td>No</td>\n",
       "      <td>No</td>\n",
       "      <td>0.0</td>\n",
       "      <td>2250.0</td>\n",
       "      <td>black</td>\n",
       "      <td>Under $11k</td>\n",
       "      <td>634</td>\n",
       "    </tr>\n",
       "    <tr>\n",
       "      <th>416</th>\n",
       "      <td>417</td>\n",
       "      <td>ARF</td>\n",
       "      <td>MOSF w/Sepsis</td>\n",
       "      <td>No</td>\n",
       "      <td>12311</td>\n",
       "      <td>12319.0</td>\n",
       "      <td>12362.0</td>\n",
       "      <td>12362</td>\n",
       "      <td>Yes</td>\n",
       "      <td>0</td>\n",
       "      <td>...</td>\n",
       "      <td>No</td>\n",
       "      <td>No</td>\n",
       "      <td>Yes</td>\n",
       "      <td>No</td>\n",
       "      <td>No</td>\n",
       "      <td>5.0</td>\n",
       "      <td>1135.0</td>\n",
       "      <td>white</td>\n",
       "      <td>Under $11k</td>\n",
       "      <td>716</td>\n",
       "    </tr>\n",
       "  </tbody>\n",
       "</table>\n",
       "<p>5 rows × 63 columns</p>\n",
       "</div>"
      ],
      "text/plain": [
       "     Unnamed: 0               cat1           cat2          ca  sadmdte  \\\n",
       "110         111  MOSF w/Malignancy  MOSF w/Sepsis  Metastatic    12025   \n",
       "168         169  MOSF w/Malignancy  MOSF w/Sepsis         Yes    12433   \n",
       "249         250  MOSF w/Malignancy  MOSF w/Sepsis         Yes    12197   \n",
       "362         363               COPD    Lung Cancer  Metastatic    12331   \n",
       "416         417                ARF  MOSF w/Sepsis          No    12311   \n",
       "\n",
       "     dschdte   dthdte  lstctdte death  cardiohx  ...   meta  hema  seps  \\\n",
       "110  12032.0  12075.0     12074   Yes         0  ...    Yes    No    No   \n",
       "168  12440.0  12440.0     12440   Yes         0  ...     No    No   Yes   \n",
       "249  12242.0  12332.0     12332   Yes         0  ...     No    No   Yes   \n",
       "362  12335.0  12444.0     12444   Yes         0  ...     No    No    No   \n",
       "416  12319.0  12362.0     12362   Yes         0  ...     No    No   Yes   \n",
       "\n",
       "     trauma  ortho  adld3p   urin1   race      income  ptid  \n",
       "110      No     No     1.0  2525.0  white  Under $11k   193  \n",
       "168      No     No     0.0  3665.0  white    $11-$25k   292  \n",
       "249      No     No     0.0  2915.0  white    $25-$50k   445  \n",
       "362      No     No     0.0  2250.0  black  Under $11k   634  \n",
       "416      No     No     5.0  1135.0  white  Under $11k   716  \n",
       "\n",
       "[5 rows x 63 columns]"
      ]
     },
     "execution_count": 8,
     "metadata": {},
     "output_type": "execute_result"
    }
   ],
   "source": [
    "rhc.dropna().head()"
   ]
  },
  {
   "cell_type": "markdown",
   "metadata": {},
   "source": [
    "### 1.5 Editing\n",
    "\n",
    "a. Add a `lengthstay` column with the difference between the study admission date `sadmdte` and the discharge date `dschdte`. The date is in a censored format to protect the identify of the individuals in the dataset. "
   ]
  },
  {
   "cell_type": "code",
   "execution_count": 9,
   "metadata": {},
   "outputs": [],
   "source": [
    "rhc['lengthstay'] = rhc['sadmdte'] - rhc['dschdte']"
   ]
  },
  {
   "cell_type": "markdown",
   "metadata": {},
   "source": [
    "b. Normalize the values of a lab test of your choice. i.e. subtract the mean value and divide by the standard deviation. "
   ]
  },
  {
   "cell_type": "code",
   "execution_count": 10,
   "metadata": {},
   "outputs": [],
   "source": [
    "rhc['urin1_normalized'] = (rhc['urin1'] - rhc['urin1'].mean())/rhc['urin1'].std()"
   ]
  },
  {
   "cell_type": "markdown",
   "metadata": {},
   "source": [
    "### 1.4 Merging\n",
    "\n",
    "Load `rhc_1.csv` and `rhc_2.csv`. Select the first 10 columns of both tables, then combine them. Save the ouput as `rhc_new.csv`, and include this as part of your submission on Courseworks. "
   ]
  },
  {
   "cell_type": "code",
   "execution_count": 11,
   "metadata": {},
   "outputs": [],
   "source": [
    "rhc_1 = pd.read_csv(\"rhc_1.csv\").iloc[:,0:10]\n",
    "rhc_2 = pd.read_csv(\"rhc_2.csv\").iloc[:,0:10]\n",
    "\n",
    "rhc_new = rhc_1.append(rhc_2)\n",
    "rhc_new.to_csv(\"rhc_new.csv\")"
   ]
  },
  {
   "cell_type": "markdown",
   "metadata": {},
   "source": [
    "## Part 2: Python Basics and Object Oriented Programming (OOP)\n",
    "While data frames are a good way to manage data in the format it is give to you in, you may want to organize your data in a way that makes more sense from a computational standpoint. Fortunately, python has rich support for Object Oriented Programming. In Python, classes are types of objects. You can think of a class as a scaffold that will hold more data in a structured way. Classes can contain *attributes*, which describe the object, and *methods*, which perform some function on the object. \n",
    "\n",
    "This is an example of a class called `Patient`, which is initialized with an ID and age attribute. `Patient` also has a class attribute, which is the same for all instances. This is fine for us, but it you happen to be a veterinary informatician, you may want to change `species` to `'Felis catus'`. There is also a method which prints the patients ID and age. "
   ]
  },
  {
   "cell_type": "markdown",
   "metadata": {},
   "source": [
    "a. Add an attribute to `Patient` for their disease category, an attribute for one lab test value, and a method called `DieseaseDescription` which prints the patient's ID, disease, and lab test value, in some human readable format. "
   ]
  },
  {
   "cell_type": "code",
   "execution_count": 12,
   "metadata": {},
   "outputs": [],
   "source": [
    "class Patient:\n",
    "    \n",
    "    # Class Attribute\n",
    "    species = 'Homo sapiens'\n",
    "    \n",
    "    # Initializer / Instance Attributes\n",
    "    def __init__(self, ID, age, disease_cat, lab_test_1):\n",
    "        self.ID = ID\n",
    "        self.age = age\n",
    "        self.disease_cat = disease_cat\n",
    "        self.lab_test_1 = lab_test_1\n",
    "        \n",
    "    # Instance method\n",
    "    def description(self):\n",
    "        return \"Patient #{} is {} years old\".format(self.ID, self.age)\n",
    "    \n",
    "    def disease_description(self):\n",
    "        return \"Patient #{} has {} and recently had test values of {}\".format(self.ID, self.disease_cat, self.lab_test_1)\n",
    "    "
   ]
  },
  {
   "cell_type": "code",
   "execution_count": 13,
   "metadata": {
    "scrolled": true
   },
   "outputs": [
    {
     "name": "stdout",
     "output_type": "stream",
     "text": [
      "Patient #9 is 25 years old\n",
      "Homo sapiens\n"
     ]
    }
   ],
   "source": [
    "# Example Patient\n",
    "ex_pnt = Patient(9, 25, 'diabetes', 100)\n",
    "print(ex_pnt.description())\n",
    "print(ex_pnt.species)"
   ]
  },
  {
   "cell_type": "markdown",
   "metadata": {},
   "source": [
    "b. For the first 100 individuals in `rhc` with non-missing values for their disease and lab test you chose, initialize a `Patient` object for each, and save it in a list data structure. Then call the `DiseaseDescription` method for each object in the list. "
   ]
  },
  {
   "cell_type": "code",
   "execution_count": 14,
   "metadata": {},
   "outputs": [
    {
     "name": "stdout",
     "output_type": "stream",
     "text": [
      "Patient #1 has MOSF w/Malignancy and recently had test values of 0.2180431529189412\n",
      "Patient #2 has MOSF w/Malignancy and recently had test values of 0.9655155134034696\n",
      "Patient #3 has MOSF w/Malignancy and recently had test values of 0.4737573815057535\n",
      "Patient #4 has COPD and recently had test values of 0.03773183788977864\n",
      "Patient #5 has ARF and recently had test values of -0.6933485848648259\n",
      "Patient #6 has ARF and recently had test values of 0.6802957969027943\n",
      "Patient #7 has MOSF w/Malignancy and recently had test values of -0.22453916578900326\n",
      "Patient #8 has ARF and recently had test values of 1.7228230365259523\n",
      "Patient #9 has MOSF w/Malignancy and recently had test values of 2.8243612519768364\n",
      "Patient #10 has ARF and recently had test values of 0.24558160830521328\n",
      "Patient #11 has ARF and recently had test values of -0.9011983552802606\n",
      "Patient #12 has ARF and recently had test values of -1.4375425578033696\n",
      "Patient #13 has MOSF w/Malignancy and recently had test values of -0.32944756726051605\n",
      "Patient #14 has ARF and recently had test values of 0.713079672362642\n",
      "Patient #15 has COPD and recently had test values of -0.7005610374659924\n",
      "Patient #16 has ARF and recently had test values of -0.8474327995261103\n",
      "Patient #17 has Cirrhosis and recently had test values of -1.011352176825349\n",
      "Patient #18 has MOSF w/Malignancy and recently had test values of 0.4311383434079515\n",
      "Patient #19 has MOSF w/Malignancy and recently had test values of 2.247365043883516\n",
      "Patient #20 has ARF and recently had test values of -1.2637880178661764\n",
      "Patient #21 has COPD and recently had test values of 0.9065045375757437\n",
      "Patient #22 has MOSF w/Malignancy and recently had test values of 3.8078775157722684\n",
      "Patient #23 has ARF and recently had test values of 0.48555957667129873\n",
      "Patient #24 has MOSF w/Malignancy and recently had test values of 0.19247173006025994\n",
      "Patient #25 has ARF and recently had test values of 0.20165121518901732\n",
      "Patient #26 has ARF and recently had test values of -1.3024729909087969\n",
      "Patient #27 has MOSF w/Malignancy and recently had test values of 1.814617887813526\n",
      "Patient #28 has ARF and recently had test values of 1.4048194445654294\n",
      "Patient #29 has ARF and recently had test values of 0.45736544377582966\n",
      "Patient #30 has ARF and recently had test values of -1.4375425578033696\n",
      "Patient #31 has MOSF w/Malignancy and recently had test values of -0.49664533210573947\n",
      "Patient #32 has ARF and recently had test values of -0.5622130830254349\n",
      "Patient #33 has MOSF w/Malignancy and recently had test values of -0.4736966192838461\n",
      "Patient #34 has Coma and recently had test values of -1.4375425578033696\n",
      "Patient #35 has ARF and recently had test values of -0.4540262940079374\n",
      "Patient #36 has MOSF w/Malignancy and recently had test values of 2.2014676182397293\n",
      "Patient #37 has COPD and recently had test values of -1.126095740934816\n",
      "Patient #38 has ARF and recently had test values of 0.18525927745909346\n",
      "Patient #39 has ARF and recently had test values of -1.2342825299523137\n",
      "Patient #40 has ARF and recently had test values of 0.16231056463720003\n",
      "Patient #41 has ARF and recently had test values of -0.5359859826575568\n",
      "Patient #42 has ARF and recently had test values of -0.7346562679442341\n",
      "Patient #43 has CHF and recently had test values of -0.33600434235248555\n",
      "Patient #44 has ARF and recently had test values of -1.200842976983269\n",
      "Patient #45 has MOSF w/Malignancy and recently had test values of 0.467200606413784\n",
      "Patient #46 has ARF and recently had test values of -1.3195206061479177\n",
      "Patient #47 has ARF and recently had test values of 0.5950577207071902\n",
      "Patient #48 has ARF and recently had test values of 1.9228046768310236\n",
      "Patient #49 has MOSF w/Malignancy and recently had test values of 2.581760573573963\n"
     ]
    }
   ],
   "source": [
    "patient_list = []\n",
    "\n",
    "counter = 0\n",
    "for index,row in rhc.dropna().iloc[0:100,:].iterrows():\n",
    "    counter += 1\n",
    "    patient_list.append(Patient(counter, row['age'], row['cat1'], row['urin1_normalized']))\n",
    "    \n",
    "for patient in patient_list:\n",
    "    print(patient.disease_description())"
   ]
  },
  {
   "cell_type": "markdown",
   "metadata": {},
   "source": [
    "## Part 3: Vectorized programming with pytorch\n",
    "Let's turn up the heat a bit 🔥🔥🔥. A central focus of this course is learning neural network architecture, and PyTorch is one of the most common Python modules used for this task. If you haven't already, install it into your `Computational_methods` environment. More information on installing Pytorch is [here](https://pytorch.org/get-started/locally/). Do whatever instructions apply to your computer, but make sure you install PyTorch using conda, and that it installs into your environment. "
   ]
  },
  {
   "cell_type": "code",
   "execution_count": 1,
   "metadata": {},
   "outputs": [],
   "source": [
    "import torch\n",
    "import numpy as np"
   ]
  },
  {
   "cell_type": "markdown",
   "metadata": {},
   "source": [
    "### 3.1 Tensors\n",
    "Primarily, Pytorch can be used as a replacement for Numpy, to take advantage of the parallel processing power of GPUs. Torch tensors are defined similarly to `np.array`s, so the syntax should be familiar if you have used Numpy before. Check out a cheat sheet for Pytorch [here](https://www.sznajdman.com/wp-content/uploads/2018/02/pytorch-cheat.jpg)\n",
    "\n",
    "You can easily make random tensors of any dimensions. Use `torch.rand` to draw from a Uniform distribution between 0 and 1, and `torch.randn` to draw from a Gaussian with $\\mu = 0$ and $\\sigma = 1$. For this exercise, all matrix entries must be greater than 0, so draw random values from the appropriate distribution. "
   ]
  },
  {
   "cell_type": "markdown",
   "metadata": {},
   "source": [
    "a. Intialize a random 5 x 1 tensor called `T1` and print it. "
   ]
  },
  {
   "cell_type": "code",
   "execution_count": 2,
   "metadata": {},
   "outputs": [],
   "source": [
    "T1 = torch.randn(5,1)"
   ]
  },
  {
   "cell_type": "markdown",
   "metadata": {},
   "source": [
    "b. Initialize a random 5 x 3 tensor called `T2`, and print it. "
   ]
  },
  {
   "cell_type": "code",
   "execution_count": 3,
   "metadata": {},
   "outputs": [],
   "source": [
    "T2 = torch.randn(5,3, requires_grad = True)"
   ]
  },
  {
   "cell_type": "markdown",
   "metadata": {},
   "source": [
    "c. Initialize a random 5 x 3 x 2 tensor called `T3`, and print it. "
   ]
  },
  {
   "cell_type": "code",
   "execution_count": 4,
   "metadata": {},
   "outputs": [],
   "source": [
    "T3 = torch.randn(5,3,2)"
   ]
  },
  {
   "cell_type": "markdown",
   "metadata": {},
   "source": [
    "### 3.2 Tensor Operations\n",
    "Try some basic math operations (+, -, \\*, / ) on your three new tensors. "
   ]
  },
  {
   "cell_type": "code",
   "execution_count": 5,
   "metadata": {},
   "outputs": [
    {
     "data": {
      "text/plain": [
       "tensor([[ 1.9141, -0.8521, -0.9750],\n",
       "        [ 0.2767, -2.4254, -1.4106],\n",
       "        [-0.9948, -0.6592, -1.9730],\n",
       "        [ 2.3068, -0.1912,  3.1698],\n",
       "        [-0.3291,  1.5397,  0.3168]], grad_fn=<SubBackward0>)"
      ]
     },
     "execution_count": 5,
     "metadata": {},
     "output_type": "execute_result"
    }
   ],
   "source": [
    "T2 - T1"
   ]
  },
  {
   "cell_type": "markdown",
   "metadata": {},
   "source": [
    "a. What is the difference between `T1 * T2`, `T1.t().mm(T2)`, and `T2.t().mm(T1)`?"
   ]
  },
  {
   "cell_type": "code",
   "execution_count": 6,
   "metadata": {},
   "outputs": [
    {
     "data": {
      "text/plain": [
       "tensor([[ 1.0833],\n",
       "        [ 0.6929],\n",
       "        [-3.2816]], grad_fn=<MmBackward>)"
      ]
     },
     "execution_count": 6,
     "metadata": {},
     "output_type": "execute_result"
    }
   ],
   "source": [
    "T1*T2 # tensor product; produces a 5x3 tensor (which is the size of T2)\n",
    "\n",
    "T1.t().mm(T2) # transpose of T1, then take the matrix-matrix product\n",
    "\n",
    "T2.t().mm(T1) # transpose of T2, then take the matrix-matrix product"
   ]
  },
  {
   "cell_type": "markdown",
   "metadata": {},
   "source": [
    "b. Is there any way to do a matrix operation on `T2` and `T3`? Why or why not?\n",
    "- No, because you cannot do operations on two tensors where one tensor is 3d and the other is 2d"
   ]
  },
  {
   "cell_type": "code",
   "execution_count": 126,
   "metadata": {},
   "outputs": [
    {
     "name": "stdout",
     "output_type": "stream",
     "text": [
      "<AddBackward0 object at 0x124c9b390>\n"
     ]
    }
   ],
   "source": [
    "T0 = T2 + T1\n",
    "print(T0.grad_fn)"
   ]
  },
  {
   "cell_type": "markdown",
   "metadata": {},
   "source": [
    "c. The logit function maps numbers between 0 and 1 to $\\mathbb{R}$. It is defined $$ logit(x) = \\log \\left( \\frac{x}{1-x} \\right) $$\n",
    "Implement the logit function, and apply it to all values in `T2`"
   ]
  },
  {
   "cell_type": "code",
   "execution_count": 82,
   "metadata": {},
   "outputs": [
    {
     "data": {
      "text/plain": [
       "tensor([[   nan,    nan,    nan],\n",
       "        [0.0941,    nan,    nan],\n",
       "        [9.8110, 0.0300,    nan],\n",
       "        [   nan,    nan,    nan],\n",
       "        [0.9825,    nan, 1.3256]])"
      ]
     },
     "execution_count": 82,
     "metadata": {},
     "output_type": "execute_result"
    }
   ],
   "source": [
    "def logit(x):\n",
    "    numerator = torch.log(x)\n",
    "    denominator = torch.log(1-x)\n",
    "    return numerator/denominator\n",
    "    \n",
    "logit(T2)"
   ]
  },
  {
   "cell_type": "markdown",
   "metadata": {},
   "source": [
    "Now make an inverse logit function, and apply it to the result of the previous call to show that you have recovered `T2`"
   ]
  },
  {
   "cell_type": "code",
   "execution_count": 83,
   "metadata": {},
   "outputs": [
    {
     "data": {
      "text/plain": [
       "tensor([[        nan,         nan,         nan],\n",
       "        [-2.6268e+01,         nan,         nan],\n",
       "        [ 9.5923e-01, -1.1870e+02,         nan],\n",
       "        [        nan,         nan,         nan],\n",
       "        [-2.5814e-02,         nan,  3.3396e-01]])"
      ]
     },
     "execution_count": 83,
     "metadata": {},
     "output_type": "execute_result"
    }
   ],
   "source": [
    "def inverse_logit(x):\n",
    "    numerator = torch.log(x)\n",
    "    denominator = torch.log(1+x)\n",
    "    return numerator/denominator\n",
    "    \n",
    "inverse_logit(logit(T2))"
   ]
  },
  {
   "cell_type": "markdown",
   "metadata": {},
   "source": [
    "### 3.3 CUDA Tensors\n",
    "If you happen to be using a computer with a GPU, you can speed up learning by using CUDA. (As a demonstration. We won't take off points if you don't have a GPU...)"
   ]
  },
  {
   "cell_type": "code",
   "execution_count": 87,
   "metadata": {},
   "outputs": [
    {
     "data": {
      "text/plain": [
       "False"
      ]
     },
     "execution_count": 87,
     "metadata": {},
     "output_type": "execute_result"
    }
   ],
   "source": [
    "# let us run this cell only if CUDA is available\n",
    "# We will use ``torch.device`` objects to move tensors in and out of GPU\n",
    "if torch.cuda.is_available():\n",
    "    device = torch.device(\"cuda\")          # a CUDA device object\n",
    "    y = torch.ones_like(x, device=device)  # directly create a tensor on GPU\n",
    "    x = x.to(device)                       # or just use strings ``.to(\"cuda\")``\n",
    "    z = x + y\n",
    "    print(z)\n",
    "    print(z.to(\"cpu\", torch.double))       # ``.to`` can also change dtype together!"
   ]
  },
  {
   "cell_type": "markdown",
   "metadata": {},
   "source": [
    "## Part 4: Autodifferentiation \n",
    "Calculating the derivative of of a function is an essential step in training a neural network. In PyTorch, tensors can be set up to automatically track the derivative every time an operation is performed on them. This is convenient for many different applications in deep learning. Read a more detailed explanation of Autodiff [here](https://pytorch.org/tutorials/beginner/blitz/autograd_tutorial.html#sphx-glr-beginner-blitz-autograd-tutorial-py)\n",
    "\n",
    "Essentially, if you set the `.requires_grad` attribute when defining a tensor to `True`, all of the operations will be tracked automatically. For example:"
   ]
  },
  {
   "cell_type": "code",
   "execution_count": 88,
   "metadata": {},
   "outputs": [
    {
     "name": "stdout",
     "output_type": "stream",
     "text": [
      "tensor([[0.3872, 0.3517],\n",
      "        [0.8268, 0.9008]], requires_grad=True)\n"
     ]
    }
   ],
   "source": [
    "tracked_tensor = torch.rand(2,2, requires_grad = True)\n",
    "print(tracked_tensor)"
   ]
  },
  {
   "cell_type": "code",
   "execution_count": 89,
   "metadata": {},
   "outputs": [],
   "source": [
    "sin_tracked_tensor = torch.sin(tracked_tensor)"
   ]
  },
  {
   "cell_type": "code",
   "execution_count": 90,
   "metadata": {},
   "outputs": [
    {
     "name": "stdout",
     "output_type": "stream",
     "text": [
      "tensor([[0.3776, 0.3445],\n",
      "        [0.7358, 0.7838]], grad_fn=<SinBackward>)\n"
     ]
    }
   ],
   "source": [
    "print(sin_tracked_tensor)"
   ]
  },
  {
   "cell_type": "markdown",
   "metadata": {},
   "source": [
    "a. Make 1-D tensors $x$ and $y$, where $y = x^2$, on range of -3 to 3, with 61 points between. Make sure to set `requires_grad` to `True` when you define the `x` tensor!"
   ]
  },
  {
   "cell_type": "code",
   "execution_count": 114,
   "metadata": {},
   "outputs": [],
   "source": [
    "y = np.random.randint(low = -3, high = 3, size=61).astype(\"float\")\n",
    "x = y\n",
    "\n",
    "x = torch.tensor(x, requires_grad=True)\n",
    "y = torch.tensor(y, requires_grad=True)"
   ]
  },
  {
   "cell_type": "markdown",
   "metadata": {},
   "source": [
    "Now print `x` and `y` as Numpy arrays. "
   ]
  },
  {
   "cell_type": "code",
   "execution_count": 116,
   "metadata": {},
   "outputs": [
    {
     "ename": "RuntimeError",
     "evalue": "Can't call numpy() on Variable that requires grad. Use var.detach().numpy() instead.",
     "output_type": "error",
     "traceback": [
      "\u001b[0;31m---------------------------------------------------------------------------\u001b[0m",
      "\u001b[0;31mRuntimeError\u001b[0m                              Traceback (most recent call last)",
      "\u001b[0;32m<ipython-input-116-21d1327402c2>\u001b[0m in \u001b[0;36m<module>\u001b[0;34m\u001b[0m\n\u001b[1;32m      1\u001b[0m \u001b[0;31m#### your code here ####\u001b[0m\u001b[0;34m\u001b[0m\u001b[0;34m\u001b[0m\u001b[0;34m\u001b[0m\u001b[0m\n\u001b[0;32m----> 2\u001b[0;31m \u001b[0mx\u001b[0m\u001b[0;34m.\u001b[0m\u001b[0mnumpy\u001b[0m\u001b[0;34m(\u001b[0m\u001b[0;34m)\u001b[0m\u001b[0;34m\u001b[0m\u001b[0;34m\u001b[0m\u001b[0m\n\u001b[0m",
      "\u001b[0;31mRuntimeError\u001b[0m: Can't call numpy() on Variable that requires grad. Use var.detach().numpy() instead."
     ]
    }
   ],
   "source": [
    "# must first \n",
    "x.detach().numpy()\n",
    "y.detach().numpy()"
   ]
  },
  {
   "cell_type": "markdown",
   "metadata": {},
   "source": [
    "b. Plot a graph of your function of $y = x^2$"
   ]
  },
  {
   "cell_type": "code",
   "execution_count": null,
   "metadata": {},
   "outputs": [],
   "source": [
    "#### your code here ####"
   ]
  },
  {
   "cell_type": "markdown",
   "metadata": {},
   "source": [
    "c. Now, take the derviative of $y$ at $x = 1.5$ using PyTorch's autodifferentiation, and save it as `m`."
   ]
  },
  {
   "cell_type": "code",
   "execution_count": null,
   "metadata": {},
   "outputs": [],
   "source": [
    "#### your code here ####"
   ]
  },
  {
   "cell_type": "markdown",
   "metadata": {},
   "source": [
    "d. Add the tangent line at $y'(1.5)$ to the original plot of $y = x^2$ (Hint: Remember you can solve $y = mx + b$ for $b$ to find the y-intercept)"
   ]
  },
  {
   "cell_type": "code",
   "execution_count": null,
   "metadata": {},
   "outputs": [],
   "source": [
    "#### your code here ####"
   ]
  }
 ],
 "metadata": {
  "kernelspec": {
   "display_name": "Python (Computational Methods)\n\n",
   "language": "python",
   "name": "cm"
  },
  "language_info": {
   "codemirror_mode": {
    "name": "ipython",
    "version": 3
   },
   "file_extension": ".py",
   "mimetype": "text/x-python",
   "name": "python",
   "nbconvert_exporter": "python",
   "pygments_lexer": "ipython3",
   "version": "3.7.1"
  }
 },
 "nbformat": 4,
 "nbformat_minor": 2
}
