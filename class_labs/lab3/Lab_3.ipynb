{
 "cells": [
  {
   "cell_type": "markdown",
   "metadata": {},
   "source": [
    "![spicy_meme](https://jeinson.github.io/images/mem2.jpg)\n",
    "\n",
    "<center>Depends who you ask...</center>"
   ]
  },
  {
   "cell_type": "markdown",
   "metadata": {},
   "source": [
    "# Lab 3: Linear Regression with Stochatic Gradient Descent \n",
    "\n",
    "In the previous lab, we introduced auto differentiation, then used gradient descent to maximize the likelihood for simple model parameters. Today, we'll build on this knowledge by implementing linear regression using pytorch's Neural Network package, `torch.nn`. \n",
    "\n",
    "To review, in least squares linear regression we have a design matrix $X$ and a set of corresponding outcomes $Y$, and the goal is to learn a $\\beta$ such that $\\hat{Y} = X^\\top \\beta + \\epsilon$ minimizes the loss function $\\frac{1}{n}\\sum_n (Y - \\hat{Y})^2$, with $\\mathbb{E}[\\epsilon] = 0$\n",
    "\n",
    "In the simple case of one feature and one output (see above meme):\n",
    "\n",
    "$$ \n",
    "Y = \n",
    "\\begin{bmatrix}\n",
    "Y_1 \\\\\n",
    "Y_2 \\\\\n",
    "\\vdots \\\\\n",
    "Y_n \n",
    "\\end{bmatrix}  , \n",
    "X = \\begin{bmatrix}\n",
    "1 & X_1 \\\\\n",
    "1 & X_2 \\\\\n",
    "\\vdots & \\vdots \\\\\n",
    "1 & X_n \n",
    "\\end{bmatrix} ,\n",
    "\\beta = \n",
    " \\begin{bmatrix}\n",
    "\\beta_1 \\\\\n",
    "\\beta_2 \n",
    "\\end{bmatrix}, \\text{and } \n",
    "\\epsilon = \n",
    "\\begin{bmatrix}\n",
    "\\epsilon_1 \\\\\n",
    "\\epsilon_2 \\\\ \n",
    "\\vdots \\\\\n",
    "\\epsilon_n\n",
    "\\end{bmatrix}\n",
    "$$\n",
    "\n",
    "In $X$, the leading column of 1s allows for an intercept parameter. "
   ]
  },
  {
   "cell_type": "markdown",
   "metadata": {},
   "source": [
    "The most common method used for solving linear equations is the **Method of Least Squares**. This is what popular packages like scikit learn or R's `lm` function are doing under the hood. With some fun matrix algebra, the solution pops out fairly easily. \n",
    "\n",
    "$$\\begin{align}\n",
    "X\\beta &= Y\\\\\n",
    "X^\\top X\\beta &= X^\\top Y \\\\\n",
    "(X^\\top X)^{-1}X^\\top X \\beta&= (X^\\top X)^{-1} X^\\top Y \\\\\n",
    "&\\implies \\\\\n",
    "\\hat{\\beta}&= (X^\\top X)^{-1} X^\\top Y\n",
    "\\end{align}\n",
    "$$\n",
    "\n",
    "This solution involves taking the inverse of a matrix, which gets computationally very expensive as the size of your dataset increases. Therefore, we can think of the problem of optimizing $\\beta$ in terms of the machine learning workflow discussed in class, where essentially, we try to mimize the quantity $Q$ in \n",
    "$$ (X^\\top \\beta -  Y)^\\top (X^\\top \\beta - Y) = Q $$\n",
    "The matrix calculus needed to optimize $\\beta$ is pretty ugly, but fortunately we can use autodifferentiation and gradient descent to arrive at an optimal solution. The task of modeling linear regression can be thought of in terms of the machine learning workflow discussed in class. \n",
    "\n",
    "![Learning Algorithm](https://jeinson.github.io/images/Learning_Algorithm.png)"
   ]
  },
  {
   "cell_type": "code",
   "execution_count": 4,
   "metadata": {},
   "outputs": [],
   "source": [
    "# Import the following modules. These are the only ones needed to complete the lab. \n",
    "# -.5 if you import any other modules ;-)\n",
    "import matplotlib.pyplot as plt\n",
    "import numpy as np\n",
    "import torch\n",
    "import torch.nn as nn"
   ]
  },
  {
   "cell_type": "markdown",
   "metadata": {},
   "source": [
    "## Part 1: Simulate some data"
   ]
  },
  {
   "cell_type": "markdown",
   "metadata": {},
   "source": [
    "Using torch tensors, randomly draw a `[2 x 1] `$\\beta$ vector, and 50 random $X_i$s for training. Then matrix multiply $X$ and $\\beta$, and add some Gaussian noise, to make a $Y$ vector. This will be the training set used for training your regression model."
   ]
  },
  {
   "cell_type": "code",
   "execution_count": 54,
   "metadata": {},
   "outputs": [],
   "source": [
    "def OLSmodel(X):\n",
    "    beta = torch.rand(1,1, requires_grad = True) # randomly initialize model parameters \n",
    "    return X*beta.t()\n",
    "\n",
    "# create random X\n",
    "X = torch.rand(50,1)# 2D matrix with intercept & 1 randomly initialized parameter\n",
    "# create output (Y) \n",
    "Y = torch.from_numpy(np.add(OLSmodel(X).data.numpy(), # OLSmodel output in an numpy array\n",
    "                    np.random.normal(scale = 0.04,size=np.shape(product)))) # add Gaussian noise"
   ]
  },
  {
   "cell_type": "markdown",
   "metadata": {},
   "source": [
    "Plot X and Y to verify their linear relationship. "
   ]
  },
  {
   "cell_type": "code",
   "execution_count": 55,
   "metadata": {},
   "outputs": [
    {
     "data": {
      "text/plain": [
       "<matplotlib.collections.PathCollection at 0x11b11bd30>"
      ]
     },
     "execution_count": 55,
     "metadata": {},
     "output_type": "execute_result"
    },
    {
     "data": {
      "image/png": "[encoded data removed]",
      "text/plain": [
       "<Figure size 432x288 with 1 Axes>"
      ]
     },
     "metadata": {
      "needs_background": "light"
     },
     "output_type": "display_data"
    }
   ],
   "source": [
    "plt.scatter(X,Y)"
   ]
  },
  {
   "cell_type": "markdown",
   "metadata": {},
   "source": [
    "## Part 2: Solve Ordinary Least Squares\n",
    "### Loss Function: \n",
    "#### (𝑋⊤𝛽−𝑌)⊤(𝑋⊤𝛽−𝑌) = 𝑄\n",
    "Using the loss function presented above, find the least squares solution for your sample dataset. This will be accomplished by using Pytorchs' built-in optimization algorithms. \n",
    "\n",
    "To use torch.optim,  you have to construct an optimizer object, that will hold the current state and will update the parameters based on the computed gradients. The parameters will be updated over multiple epochs (as conducted by calling `optimizer.step()`. See more below:\n",
    "\n",
    "https://pytorch.org/docs/stable/optim.html#torch.optim.Optimizer"
   ]
  },
  {
   "cell_type": "code",
   "execution_count": 56,
   "metadata": {},
   "outputs": [
    {
     "ename": "RuntimeError",
     "evalue": "element 0 of tensors does not require grad and does not have a grad_fn",
     "output_type": "error",
     "traceback": [
      "\u001b[0;31m---------------------------------------------------------------------------\u001b[0m",
      "\u001b[0;31mRuntimeError\u001b[0m                              Traceback (most recent call last)",
      "\u001b[0;32m<ipython-input-56-8cb1242f9da8>\u001b[0m in \u001b[0;36m<module>\u001b[0;34m\u001b[0m\n\u001b[1;32m     10\u001b[0m \u001b[0moptimizer\u001b[0m\u001b[0;34m.\u001b[0m\u001b[0mzero_grad\u001b[0m\u001b[0;34m(\u001b[0m\u001b[0;34m)\u001b[0m\u001b[0;34m\u001b[0m\u001b[0;34m\u001b[0m\u001b[0m\n\u001b[1;32m     11\u001b[0m \u001b[0mloss\u001b[0m \u001b[0;34m=\u001b[0m \u001b[0mOLS_loss\u001b[0m\u001b[0;34m(\u001b[0m\u001b[0mX\u001b[0m\u001b[0;34m,\u001b[0m \u001b[0mbeta\u001b[0m\u001b[0;34m,\u001b[0m \u001b[0mY\u001b[0m\u001b[0;34m)\u001b[0m\u001b[0;34m\u001b[0m\u001b[0;34m\u001b[0m\u001b[0m\n\u001b[0;32m---> 12\u001b[0;31m \u001b[0mloss\u001b[0m\u001b[0;34m.\u001b[0m\u001b[0mbackward\u001b[0m\u001b[0;34m(\u001b[0m\u001b[0;34m)\u001b[0m\u001b[0;34m\u001b[0m\u001b[0;34m\u001b[0m\u001b[0m\n\u001b[0m\u001b[1;32m     13\u001b[0m \u001b[0moptimizer\u001b[0m\u001b[0;34m.\u001b[0m\u001b[0mstep\u001b[0m\u001b[0;34m(\u001b[0m\u001b[0;34m)\u001b[0m\u001b[0;34m\u001b[0m\u001b[0;34m\u001b[0m\u001b[0m\n\u001b[1;32m     14\u001b[0m \u001b[0;34m\u001b[0m\u001b[0m\n",
      "\u001b[0;32m/anaconda3/lib/python3.7/site-packages/torch/tensor.py\u001b[0m in \u001b[0;36mbackward\u001b[0;34m(self, gradient, retain_graph, create_graph)\u001b[0m\n\u001b[1;32m    100\u001b[0m                 \u001b[0mproducts\u001b[0m\u001b[0;34m.\u001b[0m \u001b[0mDefaults\u001b[0m \u001b[0mto\u001b[0m\u001b[0;31m \u001b[0m\u001b[0;31m`\u001b[0m\u001b[0;31m`\u001b[0m\u001b[0;32mFalse\u001b[0m\u001b[0;31m`\u001b[0m\u001b[0;31m`\u001b[0m\u001b[0;34m.\u001b[0m\u001b[0;34m\u001b[0m\u001b[0;34m\u001b[0m\u001b[0m\n\u001b[1;32m    101\u001b[0m         \"\"\"\n\u001b[0;32m--> 102\u001b[0;31m         \u001b[0mtorch\u001b[0m\u001b[0;34m.\u001b[0m\u001b[0mautograd\u001b[0m\u001b[0;34m.\u001b[0m\u001b[0mbackward\u001b[0m\u001b[0;34m(\u001b[0m\u001b[0mself\u001b[0m\u001b[0;34m,\u001b[0m \u001b[0mgradient\u001b[0m\u001b[0;34m,\u001b[0m \u001b[0mretain_graph\u001b[0m\u001b[0;34m,\u001b[0m \u001b[0mcreate_graph\u001b[0m\u001b[0;34m)\u001b[0m\u001b[0;34m\u001b[0m\u001b[0;34m\u001b[0m\u001b[0m\n\u001b[0m\u001b[1;32m    103\u001b[0m \u001b[0;34m\u001b[0m\u001b[0m\n\u001b[1;32m    104\u001b[0m     \u001b[0;32mdef\u001b[0m \u001b[0mregister_hook\u001b[0m\u001b[0;34m(\u001b[0m\u001b[0mself\u001b[0m\u001b[0;34m,\u001b[0m \u001b[0mhook\u001b[0m\u001b[0;34m)\u001b[0m\u001b[0;34m:\u001b[0m\u001b[0;34m\u001b[0m\u001b[0;34m\u001b[0m\u001b[0m\n",
      "\u001b[0;32m/anaconda3/lib/python3.7/site-packages/torch/autograd/__init__.py\u001b[0m in \u001b[0;36mbackward\u001b[0;34m(tensors, grad_tensors, retain_graph, create_graph, grad_variables)\u001b[0m\n\u001b[1;32m     88\u001b[0m     Variable._execution_engine.run_backward(\n\u001b[1;32m     89\u001b[0m         \u001b[0mtensors\u001b[0m\u001b[0;34m,\u001b[0m \u001b[0mgrad_tensors\u001b[0m\u001b[0;34m,\u001b[0m \u001b[0mretain_graph\u001b[0m\u001b[0;34m,\u001b[0m \u001b[0mcreate_graph\u001b[0m\u001b[0;34m,\u001b[0m\u001b[0;34m\u001b[0m\u001b[0;34m\u001b[0m\u001b[0m\n\u001b[0;32m---> 90\u001b[0;31m         allow_unreachable=True)  # allow_unreachable flag\n\u001b[0m\u001b[1;32m     91\u001b[0m \u001b[0;34m\u001b[0m\u001b[0m\n\u001b[1;32m     92\u001b[0m \u001b[0;34m\u001b[0m\u001b[0m\n",
      "\u001b[0;31mRuntimeError\u001b[0m: element 0 of tensors does not require grad and does not have a grad_fn"
     ]
    }
   ],
   "source": [
    "# define the loss function\n",
    "def OLS_loss(X, beta, Y):\n",
    "    return torch.mm(((X.mm(beta).t().double()) - Y), ((X.mm(beta).t().double()) - Y))\n",
    "\n",
    "# optimizer object will hold the current state and will update the parameters based on the computed gradients.\n",
    "optimizer = torch.optim.SGD([beta], lr = 0.01, momentum=0.9)\n",
    "#optimizer = torch.optim.Adam([var1, var2], lr = 0.0001)\n",
    "\n",
    "# update parameters\n",
    "optimizer.zero_grad()\n",
    "loss = OLS_loss(X, beta, Y)\n",
    "loss.backward()\n",
    "optimizer.step()\n",
    "\n",
    "# Jack's solution\n",
    "Y_hat = OLSmodel(X)\n",
    "Mse = (Est_y - real_y).pow(2).sum()\n",
    "(Something).zero_grad()\n",
    "Mse.backward()\n",
    "Optimizer.step()"
   ]
  },
  {
   "cell_type": "markdown",
   "metadata": {},
   "source": [
    "Now plot a trend line on your data using your least squares estimate. "
   ]
  },
  {
   "cell_type": "code",
   "execution_count": 57,
   "metadata": {},
   "outputs": [],
   "source": [
    "#### your code here ####"
   ]
  },
  {
   "cell_type": "markdown",
   "metadata": {},
   "source": [
    "## Part 3: Defining the model as a neural network\n",
    "\n",
    "In pytorch, neural networks are are typically constructed by defining a class that includes at the very least a `forward` method. Some information on the `torch.nn` module is [here](https://pytorch.org/tutorials/beginner/blitz/neural_networks_tutorial.html)\n",
    "\n",
    "Fill in the missing pieces to make a neural network class called `LinearRegression` ."
   ]
  },
  {
   "cell_type": "code",
   "execution_count": 58,
   "metadata": {},
   "outputs": [],
   "source": [
    "class LinearRegression(nn.Module):\n",
    "    \n",
    "    # The class constructor defines the parameters (ie layers) of the neural network\n",
    "    def __init__(self):\n",
    "        # salling Super Class's constructor\n",
    "        super(LinearRegression, self).__init__()\n",
    "        # This neural network will have a single linear layer\n",
    "        self.linear = nn.Linear(input_dim, output_dim)\n",
    "    \n",
    "    # The forward() method ties the layers together to build the network\n",
    "    # We take the gradient of this composite function using back propogation\n",
    "    def forward(self, x):\n",
    "        # the forward pass is simply a linear function\n",
    "        out = self.linear(x)\n",
    "        return out\n",
    "    \n",
    "input_dim, output_dim = 1, 1"
   ]
  },
  {
   "cell_type": "markdown",
   "metadata": {},
   "source": [
    "Before training, the model initializes with random parameters. Define a new LinearRegression object, and print the values of the parameters. "
   ]
  },
  {
   "cell_type": "code",
   "execution_count": 72,
   "metadata": {},
   "outputs": [
    {
     "name": "stdout",
     "output_type": "stream",
     "text": [
      "<generator object Module.parameters at 0x11b579840>\n"
     ]
    }
   ],
   "source": [
    "linear_model = LinearRegression()\n",
    "print(linear_model.parameters())"
   ]
  },
  {
   "cell_type": "markdown",
   "metadata": {},
   "source": [
    "The next step is defining a loss function, which our model will attempt to miminize during training, and an optimization function, which specifies the learning method and learning rate. The most commonly used optimizer is **Stochastic Gradient Descent**, which is conveniently implemented as `torch.optim.SGD`. More on this [here](https://pytorch.org/docs/stable/optim.html). Which loss function should you use to optimizer the parameters in linear regression? [Check here for some options](https://pytorch.org/docs/stable/nn.html#loss-functions)\n",
    "\n",
    "Define a loss object called `criterion` and an optimizer object called `optimizer`, for the parameters of your new `LinearRegression` object, and with a learning rate of .01. (You may have to play around with the learning rate if your model diverges off to infinity)"
   ]
  },
  {
   "cell_type": "code",
   "execution_count": 60,
   "metadata": {},
   "outputs": [],
   "source": [
    "criterion = nn.MSELoss() # Mean Squared Loss\n",
    "learningRate = 0.01\n",
    "optimiser = torch.optim.SGD(linear_model.parameters(), lr = learningRate) # Stochastic Gradient Descent\n",
    "epochs = 2000"
   ]
  },
  {
   "cell_type": "markdown",
   "metadata": {},
   "source": [
    "Finally, let's train the model. This is where the magic happens! In training, we iterate through the process of choosing parameters, calculating the loss, then marching down the gradient until the parameters converge. Fill in the following code chunk to optimize the parameters of `lr_model`"
   ]
  },
  {
   "cell_type": "code",
   "execution_count": 79,
   "metadata": {},
   "outputs": [
    {
     "name": "stdout",
     "output_type": "stream",
     "text": [
      "epoch 1, loss 0.7001888751983643\n",
      "epoch 2, loss 0.7001888751983643\n",
      "epoch 3, loss 0.7001888751983643\n",
      "epoch 4, loss 0.7001888751983643\n",
      "epoch 5, loss 0.7001888751983643\n",
      "epoch 6, loss 0.7001888751983643\n",
      "epoch 7, loss 0.7001888751983643\n",
      "epoch 8, loss 0.7001888751983643\n",
      "epoch 9, loss 0.7001888751983643\n",
      "epoch 10, loss 0.7001888751983643\n",
      "epoch 11, loss 0.7001888751983643\n",
      "epoch 12, loss 0.7001888751983643\n",
      "epoch 13, loss 0.7001888751983643\n",
      "epoch 14, loss 0.7001888751983643\n",
      "epoch 15, loss 0.7001888751983643\n",
      "epoch 16, loss 0.7001888751983643\n",
      "epoch 17, loss 0.7001888751983643\n",
      "epoch 18, loss 0.7001888751983643\n",
      "epoch 19, loss 0.7001888751983643\n",
      "epoch 20, loss 0.7001888751983643\n",
      "epoch 21, loss 0.7001888751983643\n",
      "epoch 22, loss 0.7001888751983643\n",
      "epoch 23, loss 0.7001888751983643\n",
      "epoch 24, loss 0.7001888751983643\n",
      "epoch 25, loss 0.7001888751983643\n",
      "epoch 26, loss 0.7001888751983643\n",
      "epoch 27, loss 0.7001888751983643\n",
      "epoch 28, loss 0.7001888751983643\n",
      "epoch 29, loss 0.7001888751983643\n",
      "epoch 30, loss 0.7001888751983643\n",
      "epoch 31, loss 0.7001888751983643\n",
      "epoch 32, loss 0.7001888751983643\n",
      "epoch 33, loss 0.7001888751983643\n",
      "epoch 34, loss 0.7001888751983643\n",
      "epoch 35, loss 0.7001888751983643\n",
      "epoch 36, loss 0.7001888751983643\n",
      "epoch 37, loss 0.7001888751983643\n",
      "epoch 38, loss 0.7001888751983643\n",
      "epoch 39, loss 0.7001888751983643\n",
      "epoch 40, loss 0.7001888751983643\n",
      "epoch 41, loss 0.7001888751983643\n",
      "epoch 42, loss 0.7001888751983643\n",
      "epoch 43, loss 0.7001888751983643\n",
      "epoch 44, loss 0.7001888751983643\n",
      "epoch 45, loss 0.7001888751983643\n",
      "epoch 46, loss 0.7001888751983643\n",
      "epoch 47, loss 0.7001888751983643\n",
      "epoch 48, loss 0.7001888751983643\n",
      "epoch 49, loss 0.7001888751983643\n",
      "epoch 50, loss 0.7001888751983643\n",
      "epoch 51, loss 0.7001888751983643\n",
      "epoch 52, loss 0.7001888751983643\n",
      "epoch 53, loss 0.7001888751983643\n",
      "epoch 54, loss 0.7001888751983643\n",
      "epoch 55, loss 0.7001888751983643\n",
      "epoch 56, loss 0.7001888751983643\n",
      "epoch 57, loss 0.7001888751983643\n",
      "epoch 58, loss 0.7001888751983643\n",
      "epoch 59, loss 0.7001888751983643\n",
      "epoch 60, loss 0.7001888751983643\n",
      "epoch 61, loss 0.7001888751983643\n",
      "epoch 62, loss 0.7001888751983643\n",
      "epoch 63, loss 0.7001888751983643\n",
      "epoch 64, loss 0.7001888751983643\n",
      "epoch 65, loss 0.7001888751983643\n",
      "epoch 66, loss 0.7001888751983643\n",
      "epoch 67, loss 0.7001888751983643\n",
      "epoch 68, loss 0.7001888751983643\n",
      "epoch 69, loss 0.7001888751983643\n",
      "epoch 70, loss 0.7001888751983643\n",
      "epoch 71, loss 0.7001888751983643\n",
      "epoch 72, loss 0.7001888751983643\n",
      "epoch 73, loss 0.7001888751983643\n",
      "epoch 74, loss 0.7001888751983643\n",
      "epoch 75, loss 0.7001888751983643\n",
      "epoch 76, loss 0.7001888751983643\n",
      "epoch 77, loss 0.7001888751983643\n",
      "epoch 78, loss 0.7001888751983643\n",
      "epoch 79, loss 0.7001888751983643\n",
      "epoch 80, loss 0.7001888751983643\n",
      "epoch 81, loss 0.7001888751983643\n",
      "epoch 82, loss 0.7001888751983643\n",
      "epoch 83, loss 0.7001888751983643\n",
      "epoch 84, loss 0.7001888751983643\n",
      "epoch 85, loss 0.7001888751983643\n",
      "epoch 86, loss 0.7001888751983643\n",
      "epoch 87, loss 0.7001888751983643\n",
      "epoch 88, loss 0.7001888751983643\n",
      "epoch 89, loss 0.7001888751983643\n",
      "epoch 90, loss 0.7001888751983643\n",
      "epoch 91, loss 0.7001888751983643\n",
      "epoch 92, loss 0.7001888751983643\n",
      "epoch 93, loss 0.7001888751983643\n",
      "epoch 94, loss 0.7001888751983643\n",
      "epoch 95, loss 0.7001888751983643\n",
      "epoch 96, loss 0.7001888751983643\n",
      "epoch 97, loss 0.7001888751983643\n",
      "epoch 98, loss 0.7001888751983643\n",
      "epoch 99, loss 0.7001888751983643\n",
      "epoch 100, loss 0.7001888751983643\n",
      "epoch 101, loss 0.7001888751983643\n",
      "epoch 102, loss 0.7001888751983643\n",
      "epoch 103, loss 0.7001888751983643\n",
      "epoch 104, loss 0.7001888751983643\n",
      "epoch 105, loss 0.7001888751983643\n",
      "epoch 106, loss 0.7001888751983643\n",
      "epoch 107, loss 0.7001888751983643\n",
      "epoch 108, loss 0.7001888751983643\n",
      "epoch 109, loss 0.7001888751983643\n",
      "epoch 110, loss 0.7001888751983643\n",
      "epoch 111, loss 0.7001888751983643\n",
      "epoch 112, loss 0.7001888751983643\n",
      "epoch 113, loss 0.7001888751983643\n",
      "epoch 114, loss 0.7001888751983643\n",
      "epoch 115, loss 0.7001888751983643\n",
      "epoch 116, loss 0.7001888751983643\n",
      "epoch 117, loss 0.7001888751983643\n",
      "epoch 118, loss 0.7001888751983643\n",
      "epoch 119, loss 0.7001888751983643\n",
      "epoch 120, loss 0.7001888751983643\n",
      "epoch 121, loss 0.7001888751983643\n",
      "epoch 122, loss 0.7001888751983643\n",
      "epoch 123, loss 0.7001888751983643\n",
      "epoch 124, loss 0.7001888751983643\n",
      "epoch 125, loss 0.7001888751983643\n",
      "epoch 126, loss 0.7001888751983643\n",
      "epoch 127, loss 0.7001888751983643\n",
      "epoch 128, loss 0.7001888751983643\n",
      "epoch 129, loss 0.7001888751983643\n",
      "epoch 130, loss 0.7001888751983643\n",
      "epoch 131, loss 0.7001888751983643\n",
      "epoch 132, loss 0.7001888751983643\n",
      "epoch 133, loss 0.7001888751983643\n",
      "epoch 134, loss 0.7001888751983643\n",
      "epoch 135, loss 0.7001888751983643\n",
      "epoch 136, loss 0.7001888751983643\n",
      "epoch 137, loss 0.7001888751983643\n",
      "epoch 138, loss 0.7001888751983643\n",
      "epoch 139, loss 0.7001888751983643\n",
      "epoch 140, loss 0.7001888751983643\n",
      "epoch 141, loss 0.7001888751983643\n",
      "epoch 142, loss 0.7001888751983643\n",
      "epoch 143, loss 0.7001888751983643\n",
      "epoch 144, loss 0.7001888751983643\n",
      "epoch 145, loss 0.7001888751983643\n",
      "epoch 146, loss 0.7001888751983643\n",
      "epoch 147, loss 0.7001888751983643\n",
      "epoch 148, loss 0.7001888751983643\n",
      "epoch 149, loss 0.7001888751983643\n",
      "epoch 150, loss 0.7001888751983643\n",
      "epoch 151, loss 0.7001888751983643\n",
      "epoch 152, loss 0.7001888751983643\n",
      "epoch 153, loss 0.7001888751983643\n",
      "epoch 154, loss 0.7001888751983643\n",
      "epoch 155, loss 0.7001888751983643\n",
      "epoch 156, loss 0.7001888751983643\n",
      "epoch 157, loss 0.7001888751983643\n",
      "epoch 158, loss 0.7001888751983643\n",
      "epoch 159, loss 0.7001888751983643\n",
      "epoch 160, loss 0.7001888751983643\n",
      "epoch 161, loss 0.7001888751983643\n",
      "epoch 162, loss 0.7001888751983643\n",
      "epoch 163, loss 0.7001888751983643\n",
      "epoch 164, loss 0.7001888751983643\n",
      "epoch 165, loss 0.7001888751983643\n",
      "epoch 166, loss 0.7001888751983643\n",
      "epoch 167, loss 0.7001888751983643\n",
      "epoch 168, loss 0.7001888751983643\n",
      "epoch 169, loss 0.7001888751983643\n",
      "epoch 170, loss 0.7001888751983643\n",
      "epoch 171, loss 0.7001888751983643\n",
      "epoch 172, loss 0.7001888751983643\n",
      "epoch 173, loss 0.7001888751983643\n",
      "epoch 174, loss 0.7001888751983643\n",
      "epoch 175, loss 0.7001888751983643\n",
      "epoch 176, loss 0.7001888751983643\n",
      "epoch 177, loss 0.7001888751983643\n",
      "epoch 178, loss 0.7001888751983643\n",
      "epoch 179, loss 0.7001888751983643\n",
      "epoch 180, loss 0.7001888751983643\n",
      "epoch 181, loss 0.7001888751983643\n",
      "epoch 182, loss 0.7001888751983643\n",
      "epoch 183, loss 0.7001888751983643\n",
      "epoch 184, loss 0.7001888751983643\n",
      "epoch 185, loss 0.7001888751983643\n",
      "epoch 186, loss 0.7001888751983643\n",
      "epoch 187, loss 0.7001888751983643\n",
      "epoch 188, loss 0.7001888751983643\n",
      "epoch 189, loss 0.7001888751983643\n",
      "epoch 190, loss 0.7001888751983643\n",
      "epoch 191, loss 0.7001888751983643\n",
      "epoch 192, loss 0.7001888751983643\n",
      "epoch 193, loss 0.7001888751983643\n",
      "epoch 194, loss 0.7001888751983643\n",
      "epoch 195, loss 0.7001888751983643\n",
      "epoch 196, loss 0.7001888751983643\n",
      "epoch 197, loss 0.7001888751983643\n",
      "epoch 198, loss 0.7001888751983643\n",
      "epoch 199, loss 0.7001888751983643\n",
      "epoch 200, loss 0.7001888751983643\n"
     ]
    }
   ],
   "source": [
    "for epoch in range(epochs):\n",
    "    epoch +=1\n",
    "\n",
    "    # estimate Y_hat to get predicted values\n",
    "    Y_hat = linear_model.forward(X)\n",
    "    \n",
    "    # compute the loss and it's gradient\n",
    "    loss = criterion(Y_hat, X)\n",
    "    loss.backward()# back props\n",
    "    \n",
    "    # update parameters with the optimizer \n",
    "    optimiser.step()# update the parameters\n",
    "    \n",
    "    # clear gradient after each epoch\n",
    "    optimiser.zero_grad()\n",
    "    \n",
    "    print('epoch {}, loss {}'.format(epoch,loss))"
   ]
  },
  {
   "cell_type": "markdown",
   "metadata": {},
   "source": [
    "Now plot the dataset with a trend line defined by the parameters your neural network learned, in addition to the OLS trend line, and label which is which. Try setting the alpha if they end up right on top of each other, or moving one of the lines over a bit so they are both easy to see. "
   ]
  },
  {
   "cell_type": "code",
   "execution_count": null,
   "metadata": {},
   "outputs": [],
   "source": [
    "#### your code here ####"
   ]
  },
  {
   "cell_type": "markdown",
   "metadata": {},
   "source": [
    "Pretty cool huh? I'll leave it up to you to decide which method you like better, but hopefully this demonstrates the flexibility of a neural network. Later on, we'll see how this package can be used to learn far more complicated patterns in data. "
   ]
  }
 ],
 "metadata": {
  "kernelspec": {
   "display_name": "Python (Computational Methods)\n\n",
   "language": "python",
   "name": "cm"
  },
  "language_info": {
   "codemirror_mode": {
    "name": "ipython",
    "version": 3
   },
   "file_extension": ".py",
   "mimetype": "text/x-python",
   "name": "python",
   "nbconvert_exporter": "python",
   "pygments_lexer": "ipython3",
   "version": "3.7.1"
  }
 },
 "nbformat": 4,
 "nbformat_minor": 2
}
