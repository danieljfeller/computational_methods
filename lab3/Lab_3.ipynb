{
 "cells": [
  {
   "cell_type": "markdown",
   "metadata": {},
   "source": [
    "![spicy_meme](https://jeinson.github.io/images/mem2.jpg)\n",
    "\n",
    "<center>Depends who you ask...</center>"
   ]
  },
  {
   "cell_type": "markdown",
   "metadata": {},
   "source": [
    "# Lab 3: Linear Regression with Stochatic Gradient Descent \n",
    "\n",
    "In the previous lab, we introduced auto differentiation, then used gradient descent to maximize the likelihood for simple model parameters. Today, we'll build on this knowledge by implementing linear regression using pytorch's Neural Network package, `torch.nn`. \n",
    "\n",
    "To review, in least squares linear regression we have a design matrix $X$ and a set of corresponding outcomes $Y$, and the goal is to learn a $\\beta$ such that $\\hat{Y} = X^\\top \\beta + \\epsilon$ minimizes the loss function $\\frac{1}{n}\\sum_n (Y - \\hat{Y})^2$, with $\\mathbb{E}[\\epsilon] = 0$\n",
    "\n",
    "In the simple case of one feature and one output (see above meme):\n",
    "\n",
    "$$ \n",
    "Y = \n",
    "\\begin{bmatrix}\n",
    "Y_1 \\\\\n",
    "Y_2 \\\\\n",
    "\\vdots \\\\\n",
    "Y_n \n",
    "\\end{bmatrix}  , \n",
    "X = \\begin{bmatrix}\n",
    "1 & X_1 \\\\\n",
    "1 & X_2 \\\\\n",
    "\\vdots & \\vdots \\\\\n",
    "1 & X_n \n",
    "\\end{bmatrix} ,\n",
    "\\beta = \n",
    " \\begin{bmatrix}\n",
    "\\beta_1 \\\\\n",
    "\\beta_2 \n",
    "\\end{bmatrix}, \\text{and } \n",
    "\\epsilon = \n",
    "\\begin{bmatrix}\n",
    "\\epsilon_1 \\\\\n",
    "\\epsilon_2 \\\\ \n",
    "\\vdots \\\\\n",
    "\\epsilon_n\n",
    "\\end{bmatrix}\n",
    "$$\n",
    "\n",
    "In $X$, the leading column of 1s allows for an intercept parameter. "
   ]
  },
  {
   "cell_type": "markdown",
   "metadata": {},
   "source": [
    "The most common method used for solving linear equations is the **Method of Least Squares**. This is what popular packages like scikit learn or R's `lm` function are doing under the hood. With some fun matrix algebra, the solution pops out fairly easily. \n",
    "\n",
    "$$\\begin{align}\n",
    "X\\beta &= Y\\\\\n",
    "X^\\top X\\beta &= X^\\top Y \\\\\n",
    "(X^\\top X)^{-1}X^\\top X \\beta&= (X^\\top X)^{-1} X^\\top Y \\\\\n",
    "&\\implies \\\\\n",
    "\\hat{\\beta}&= (X^\\top X)^{-1} X^\\top Y\n",
    "\\end{align}\n",
    "$$\n",
    "\n",
    "This solution involves taking the inverse of a matrix, which gets computationally very expensive as the size of your dataset increases. Therefore, we can think of the problem of optimizing $\\beta$ in terms of the machine learning workflow discussed in class, where essentially, we try to mimize the quantity $Q$ in \n",
    "$$ (X^\\top \\beta -  Y)^\\top (X^\\top \\beta - Y) = Q $$\n",
    "The matrix calculus needed to optimize $\\beta$ is pretty ugly, but fortunately we can use autodifferentiation and gradient descent to arrive at an optimal solution. The task of modeling linear regression can be thought of in terms of the machine learning workflow discussed in class. \n",
    "\n",
    "![Learning Algorithm](https://jeinson.github.io/images/Learning_Algorithm.png)"
   ]
  },
  {
   "cell_type": "code",
   "execution_count": 4,
   "metadata": {},
   "outputs": [],
   "source": [
    "# Import the following modules. These are the only ones needed to complete the lab. \n",
    "# -.5 if you import any other modules ;-)\n",
    "import matplotlib.pyplot as plt\n",
    "import numpy as np\n",
    "import torch\n",
    "import torch.nn as nn"
   ]
  },
  {
   "cell_type": "markdown",
   "metadata": {},
   "source": [
    "## Part 1: Simulate some data"
   ]
  },
  {
   "cell_type": "markdown",
   "metadata": {},
   "source": [
    "Using torch tensors, randomly draw a `[2 x 1] `$\\beta$ vector, and 50 random $X_i$s for training. Then matrix multiply $X$ and $\\beta$, and add some Gaussian noise, to make a $Y$ vector. This will be the training set used for training your regression model."
   ]
  },
  {
   "cell_type": "code",
   "execution_count": 22,
   "metadata": {},
   "outputs": [],
   "source": [
    "def OLSmodel(X):\n",
    "    beta = torch.rand(1,1) # randomly initialize model parameters \n",
    "    return X*beta.t()\n",
    "\n",
    "# create random X\n",
    "X = torch.rand(50,1)# 2D matrix with intercept & 1 randomly initialized parameter\n",
    "# create output (Y) \n",
    "Y = torch.from_numpy(np.add(OLSmodel(X).data.numpy(), # OLSmodel output in an numpy array\n",
    "                    np.random.normal(scale = 0.04,size=np.shape(product)))) # add Gaussian noise"
   ]
  },
  {
   "cell_type": "markdown",
   "metadata": {},
   "source": [
    "Plot X and Y to verify their linear relationship. "
   ]
  },
  {
   "cell_type": "code",
   "execution_count": 23,
   "metadata": {},
   "outputs": [
    {
     "data": {
      "text/plain": [
       "<matplotlib.collections.PathCollection at 0x11a288f98>"
      ]
     },
     "execution_count": 23,
     "metadata": {},
     "output_type": "execute_result"
    },
    {
     "data": {
      "image/png": "[encoded data removed]",
      "text/plain": [
       "<Figure size 432x288 with 1 Axes>"
      ]
     },
     "metadata": {
      "needs_background": "light"
     },
     "output_type": "display_data"
    }
   ],
   "source": [
    "plt.scatter(X,Y)"
   ]
  },
  {
   "cell_type": "markdown",
   "metadata": {},
   "source": [
    "## Part 2: Solve Ordinary Least Squares\n",
    "### Loss Function: \n",
    "#### (𝑋⊤𝛽−𝑌)⊤(𝑋⊤𝛽−𝑌) = 𝑄\n",
    "Using the loss function presented above, find the least squares solution for your sample dataset. This will be accomplished by using Pytorchs' built-in optimization algorithms. \n",
    "\n",
    "To use torch.optim,  you have to construct an optimizer object, that will hold the current state and will update the parameters based on the computed gradients. The parameters will be updated over multiple epochs (as conducted by calling `optimizer.step()`. See more below:\n",
    "\n",
    "https://pytorch.org/docs/stable/optim.html#torch.optim.Optimizer"
   ]
  },
  {
   "cell_type": "code",
   "execution_count": 16,
   "metadata": {},
   "outputs": [
    {
     "ename": "RuntimeError",
     "evalue": "element 0 of tensors does not require grad and does not have a grad_fn",
     "output_type": "error",
     "traceback": [
      "\u001b[0;31m---------------------------------------------------------------------------\u001b[0m",
      "\u001b[0;31mRuntimeError\u001b[0m                              Traceback (most recent call last)",
      "\u001b[0;32m<ipython-input-16-7233c912d1cf>\u001b[0m in \u001b[0;36m<module>\u001b[0;34m\u001b[0m\n\u001b[1;32m     10\u001b[0m \u001b[0moptimizer\u001b[0m\u001b[0;34m.\u001b[0m\u001b[0mzero_grad\u001b[0m\u001b[0;34m(\u001b[0m\u001b[0;34m)\u001b[0m\u001b[0;34m\u001b[0m\u001b[0;34m\u001b[0m\u001b[0m\n\u001b[1;32m     11\u001b[0m \u001b[0mloss\u001b[0m \u001b[0;34m=\u001b[0m \u001b[0mOLS_loss\u001b[0m\u001b[0;34m(\u001b[0m\u001b[0mX\u001b[0m\u001b[0;34m,\u001b[0m \u001b[0mbeta\u001b[0m\u001b[0;34m,\u001b[0m \u001b[0mY\u001b[0m\u001b[0;34m)\u001b[0m\u001b[0;34m\u001b[0m\u001b[0;34m\u001b[0m\u001b[0m\n\u001b[0;32m---> 12\u001b[0;31m \u001b[0mloss\u001b[0m\u001b[0;34m.\u001b[0m\u001b[0mbackward\u001b[0m\u001b[0;34m(\u001b[0m\u001b[0;34m)\u001b[0m\u001b[0;34m\u001b[0m\u001b[0;34m\u001b[0m\u001b[0m\n\u001b[0m\u001b[1;32m     13\u001b[0m \u001b[0moptimizer\u001b[0m\u001b[0;34m.\u001b[0m\u001b[0mstep\u001b[0m\u001b[0;34m(\u001b[0m\u001b[0;34m)\u001b[0m\u001b[0;34m\u001b[0m\u001b[0;34m\u001b[0m\u001b[0m\n",
      "\u001b[0;32m/anaconda3/lib/python3.7/site-packages/torch/tensor.py\u001b[0m in \u001b[0;36mbackward\u001b[0;34m(self, gradient, retain_graph, create_graph)\u001b[0m\n\u001b[1;32m    100\u001b[0m                 \u001b[0mproducts\u001b[0m\u001b[0;34m.\u001b[0m \u001b[0mDefaults\u001b[0m \u001b[0mto\u001b[0m\u001b[0;31m \u001b[0m\u001b[0;31m`\u001b[0m\u001b[0;31m`\u001b[0m\u001b[0;32mFalse\u001b[0m\u001b[0;31m`\u001b[0m\u001b[0;31m`\u001b[0m\u001b[0;34m.\u001b[0m\u001b[0;34m\u001b[0m\u001b[0;34m\u001b[0m\u001b[0m\n\u001b[1;32m    101\u001b[0m         \"\"\"\n\u001b[0;32m--> 102\u001b[0;31m         \u001b[0mtorch\u001b[0m\u001b[0;34m.\u001b[0m\u001b[0mautograd\u001b[0m\u001b[0;34m.\u001b[0m\u001b[0mbackward\u001b[0m\u001b[0;34m(\u001b[0m\u001b[0mself\u001b[0m\u001b[0;34m,\u001b[0m \u001b[0mgradient\u001b[0m\u001b[0;34m,\u001b[0m \u001b[0mretain_graph\u001b[0m\u001b[0;34m,\u001b[0m \u001b[0mcreate_graph\u001b[0m\u001b[0;34m)\u001b[0m\u001b[0;34m\u001b[0m\u001b[0;34m\u001b[0m\u001b[0m\n\u001b[0m\u001b[1;32m    103\u001b[0m \u001b[0;34m\u001b[0m\u001b[0m\n\u001b[1;32m    104\u001b[0m     \u001b[0;32mdef\u001b[0m \u001b[0mregister_hook\u001b[0m\u001b[0;34m(\u001b[0m\u001b[0mself\u001b[0m\u001b[0;34m,\u001b[0m \u001b[0mhook\u001b[0m\u001b[0;34m)\u001b[0m\u001b[0;34m:\u001b[0m\u001b[0;34m\u001b[0m\u001b[0;34m\u001b[0m\u001b[0m\n",
      "\u001b[0;32m/anaconda3/lib/python3.7/site-packages/torch/autograd/__init__.py\u001b[0m in \u001b[0;36mbackward\u001b[0;34m(tensors, grad_tensors, retain_graph, create_graph, grad_variables)\u001b[0m\n\u001b[1;32m     88\u001b[0m     Variable._execution_engine.run_backward(\n\u001b[1;32m     89\u001b[0m         \u001b[0mtensors\u001b[0m\u001b[0;34m,\u001b[0m \u001b[0mgrad_tensors\u001b[0m\u001b[0;34m,\u001b[0m \u001b[0mretain_graph\u001b[0m\u001b[0;34m,\u001b[0m \u001b[0mcreate_graph\u001b[0m\u001b[0;34m,\u001b[0m\u001b[0;34m\u001b[0m\u001b[0;34m\u001b[0m\u001b[0m\n\u001b[0;32m---> 90\u001b[0;31m         allow_unreachable=True)  # allow_unreachable flag\n\u001b[0m\u001b[1;32m     91\u001b[0m \u001b[0;34m\u001b[0m\u001b[0m\n\u001b[1;32m     92\u001b[0m \u001b[0;34m\u001b[0m\u001b[0m\n",
      "\u001b[0;31mRuntimeError\u001b[0m: element 0 of tensors does not require grad and does not have a grad_fn"
     ]
    }
   ],
   "source": [
    "# define the loss function\n",
    "def OLS_loss(X, beta, Y):\n",
    "    return torch.mm(((X.mm(beta).t().double()) - Y), ((X.mm(beta).t().double()) - Y))\n",
    "\n",
    "# optimizer object will hold the current state and will update the parameters based on the computed gradients.\n",
    "optimizer = torch.optim.SGD([beta], lr = 0.01, momentum=0.9)\n",
    "#optimizer = torch.optim.Adam([var1, var2], lr = 0.0001)\n",
    "\n",
    "# update parameters\n",
    "optimizer.zero_grad()\n",
    "loss = OLS_loss(X, beta, Y)\n",
    "loss.backward()\n",
    "optimizer.step()\n",
    "\n",
    "# Jack's solution\n",
    "Y_hat = OLSmodel(X)\n",
    "Mse = (Est_y - real_y).pow(2).sum()\n",
    "(Something).zero_grad()\n",
    "Mse.backward()\n",
    "Optimizer.step()"
   ]
  },
  {
   "cell_type": "markdown",
   "metadata": {},
   "source": [
    "Now plot a trend line on your data using your least squares estimate. "
   ]
  },
  {
   "cell_type": "code",
   "execution_count": null,
   "metadata": {},
   "outputs": [],
   "source": [
    "#### your code here ####"
   ]
  },
  {
   "cell_type": "markdown",
   "metadata": {},
   "source": [
    "## Part 3: Defining the model as a neural network\n",
    "\n",
    "In pytorch, neural networks are are typically constructed by defining a class that includes at the very least a `forward` method. Some information on the `torch.nn` module is [here](https://pytorch.org/tutorials/beginner/blitz/neural_networks_tutorial.html)\n",
    "\n",
    "Fill in the missing pieces to make a neural network class called `LinearRegression` ."
   ]
  },
  {
   "cell_type": "code",
   "execution_count": 34,
   "metadata": {},
   "outputs": [],
   "source": [
    "class LinearRegression(nn.Module):\n",
    "    \n",
    "    # The class constructor defines the parameters (ie layers) of the neural network\n",
    "    def __init__(self):\n",
    "        # salling Super Class's constructor\n",
    "        super(LinearRegression, self).__init__()\n",
    "        # This neural network will have a single linear layer\n",
    "        self.linear = nn.Linear(input_dim, output_dim)\n",
    "    \n",
    "    # The forward() method ties the layers together to build the network\n",
    "    # We take the gradient of this composite function using back propogation\n",
    "    def forward(self, x):\n",
    "        # the forward pass is simply a linear function\n",
    "        out = self.linear(x)\n",
    "        return out\n",
    "    \n",
    "input_dim, output_dim = 1, 1"
   ]
  },
  {
   "cell_type": "markdown",
   "metadata": {},
   "source": [
    "Before training, the model initializes with random parameters. Define a new LinearRegression object, and print the values of the parameters. "
   ]
  },
  {
   "cell_type": "code",
   "execution_count": 37,
   "metadata": {},
   "outputs": [],
   "source": [
    "linear_model = LinearRegression()\n",
    "#### your code here ####"
   ]
  },
  {
   "cell_type": "markdown",
   "metadata": {},
   "source": [
    "The next step is defining a loss function, which our model will attempt to miminize during training, and an optimization function, which specifies the learning method and learning rate. The most commonly used optimizer is **Stochastic Gradient Descent**, which is conveniently implemented as `torch.optim.SGD`. More on this [here](https://pytorch.org/docs/stable/optim.html). Which loss function should you use to optimizer the parameters in linear regression? [Check here for some options](https://pytorch.org/docs/stable/nn.html#loss-functions)\n",
    "\n",
    "Define a loss object called `criterion` and an optimizer object called `optimizer`, for the parameters of your new `LinearRegression` object, and with a learning rate of .01. (You may have to play around with the learning rate if your model diverges off to infinity)"
   ]
  },
  {
   "cell_type": "code",
   "execution_count": 39,
   "metadata": {},
   "outputs": [],
   "source": [
    "criterion = nn.MSELoss() # Mean Squared Loss\n",
    "learningRate = 0.01\n",
    "optimiser = torch.optim.SGD(linear_model.parameters(), lr = learningRate) # Stochastic Gradient Descent\n",
    "epochs = 2000"
   ]
  },
  {
   "cell_type": "markdown",
   "metadata": {},
   "source": [
    "Finally, let's train the model. This is where the magic happens! In training, we iterate through the process of choosing parameters, calculating the loss, then marching down the gradient until the parameters converge. Fill in the following code chunk to optimize the parameters of `lr_model`"
   ]
  },
  {
   "cell_type": "code",
   "execution_count": null,
   "metadata": {},
   "outputs": [],
   "source": [
    "epochs = 200\n",
    "\n",
    "for epoch in range(epochs):\n",
    "        \n",
    "    # Estimate Y_hat with the current model\n",
    "\n",
    "    # Compute the loss\n",
    "        \n",
    "    # Compute the gradient of the loss, and update the model parameters with the optimizer\n",
    "    # Don't forget to zero the gradient after each epoch!\n",
    "\n",
    "    if epoch % 10 == 0:\n",
    "        print(\"loss {}, beta 1 {}\".format(loss,list(lr_model.parameters())[1].detach().numpy()))\n",
    "        \n",
    "        \n",
    "for epoch in range(epochs):\n",
    "\n",
    "    epoch +=1\n",
    "    #increase the number of epochs by 1 every time\n",
    "    inputs = Variable(torch.from_numpy(x_train))\n",
    "    labels = Variable(torch.from_numpy(y_correct))\n",
    "\n",
    "    #clear grads as discussed in prev post\n",
    "    optimiser.zero_grad()\n",
    "    #forward to get predicted values\n",
    "    outputs = model.forward(inputs)\n",
    "    loss = criterion(outputs, labels)\n",
    "    loss.backward()# back props\n",
    "    optimiser.step()# update the parameters\n",
    "    print('epoch {}, loss {}'.format(epoch,loss.data[0]))"
   ]
  },
  {
   "cell_type": "markdown",
   "metadata": {},
   "source": [
    "Now plot the dataset with a trend line defined by the parameters your neural network learned, in addition to the OLS trend line, and label which is which. Try setting the alpha if they end up right on top of each other, or moving one of the lines over a bit so they are both easy to see. "
   ]
  },
  {
   "cell_type": "code",
   "execution_count": null,
   "metadata": {},
   "outputs": [],
   "source": [
    "#### your code here ####"
   ]
  },
  {
   "cell_type": "markdown",
   "metadata": {},
   "source": [
    "Pretty cool huh? I'll leave it up to you to decide which method you like better, but hopefully this demonstrates the flexibility of a neural network. Later on, we'll see how this package can be used to learn far more complicated patterns in data. "
   ]
  }
 ],
 "metadata": {
  "kernelspec": {
   "display_name": "Python (Computational Methods)\n\n",
   "language": "python",
   "name": "cm"
  },
  "language_info": {
   "codemirror_mode": {
    "name": "ipython",
    "version": 3
   },
   "file_extension": ".py",
   "mimetype": "text/x-python",
   "name": "python",
   "nbconvert_exporter": "python",
   "pygments_lexer": "ipython3",
   "version": "3.7.1"
  }
 },
 "nbformat": 4,
 "nbformat_minor": 2
}
